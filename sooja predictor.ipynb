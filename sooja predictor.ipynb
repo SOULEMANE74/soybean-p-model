{
 "cells": [
  {
   "cell_type": "markdown",
   "id": "c1d83c7f",
   "metadata": {},
   "source": [
    "## Introduction\n",
    "\n",
    "En juin 2025, un dataset intitulé **\"Advanced Soybean Agricultural Dataset\"** a été publié sur la plateforme Kaggle par une équipe de chercheurs de l’Université de Tikrit (Irak) :\n",
    "\n",
    "- Assistant Lecturer Basim Fahad Abdullah  \n",
    "- Assistant Professor Dr. Dawood Salman Madad  \n",
    "- Assistant Professor Wisam Dawood Abdullah\n",
    "\n",
    "Ce jeu de données, composé de plus de 55 000 enregistrements, rassemble des informations agronomiques détaillées sur la culture du soja. Il inclut notamment des paramètres liés au type génétique des plants, aux conditions de stress hydrique, à l’application d’acide salicylique et à divers indicateurs biologiques des plantes (poids, teneur en protéines, chlorophylle, rendement, etc.).\n",
    "\n",
    "### Pourquoi ce dataset m’a interpellé\n",
    "\n",
    "Le **Togo** est aujourd’hui reconnu comme l’un des meilleurs producteurs de **soja biologique** en Afrique et dans le monde. Ce statut repose sur des pratiques agricoles respectueuses de l’environnement, mais la performance des cultures reste sensible à de nombreux facteurs agronomiques.\n",
    "\n",
    "Ce dataset m’a donc paru particulièrement pertinent pour explorer les questions suivantes :\n",
    "\n",
    "- Quels sont les facteurs qui influencent réellement le rendement du soja ?\n",
    "- Peut-on utiliser les données collectées pour **aider les agriculteurs togolais à améliorer leurs productions**, tout en maintenant des pratiques respectueuses des normes bio ?\n",
    "\n",
    "### Objectif de l’étude\n",
    "\n",
    "L’objectif de ce travail est triple :\n",
    "\n",
    "1. Analyser les variables agronomiques les plus influentes sur le rendement en soja ;\n",
    "2. Construire un **modèle prédictif performant** à l’aide d’algorithmes de machine learning ;\n",
    "3. Formuler des **recommandations concrètes et applicables** aux producteurs de soja bio au Togo, à partir d’analyses scientifiques.\n"
   ]
  },
  {
   "cell_type": "code",
   "execution_count": 1,
   "id": "8f74531c-d35f-4fa4-84ea-f2aac6bceed9",
   "metadata": {},
   "outputs": [],
   "source": [
    "#  Importing necessary libraries\n",
    "import pandas as pd\n",
    "import numpy as np\n",
    "import matplotlib.pyplot as plt\n",
    "import seaborn as sns \n",
    "import scipy as sp\n",
    "import os \n",
    "import glob\n",
    "plt.style.use(\"ggplot\")\n",
    "%matplotlib inline\n",
    "import warnings\n",
    "warnings.filterwarnings('ignore')"
   ]
  },
  {
   "cell_type": "code",
   "execution_count": 2,
   "id": "5fcd2583",
   "metadata": {},
   "outputs": [
    {
     "data": {
      "application/vnd.microsoft.datawrangler.viewer.v0+json": {
       "columns": [
        {
         "name": "index",
         "rawType": "int64",
         "type": "integer"
        },
        {
         "name": "Salicylic Acid",
         "rawType": "object",
         "type": "string"
        },
        {
         "name": "Water Stress",
         "rawType": "object",
         "type": "string"
        },
        {
         "name": "Genotypes",
         "rawType": "object",
         "type": "string"
        },
        {
         "name": "Number of Pods (NP)",
         "rawType": "float64",
         "type": "float"
        },
        {
         "name": "Biological Weight (BW)",
         "rawType": "int64",
         "type": "integer"
        },
        {
         "name": "Sugars (Su)",
         "rawType": "float64",
         "type": "float"
        },
        {
         "name": "Relative Water Content in Leaves (RWCL)",
         "rawType": "float64",
         "type": "float"
        },
        {
         "name": "ChlorophyllA663",
         "rawType": "float64",
         "type": "float"
        },
        {
         "name": "Chlorophyllb649",
         "rawType": "float64",
         "type": "float"
        },
        {
         "name": "Protein Percentage (PPE)",
         "rawType": "float64",
         "type": "float"
        },
        {
         "name": "Weight of 300 Seeds (W3S)",
         "rawType": "float64",
         "type": "float"
        },
        {
         "name": "Leaf Area Index (LAI)",
         "rawType": "float64",
         "type": "float"
        },
        {
         "name": "Number of Seeds per Pod (NSP)",
         "rawType": "float64",
         "type": "float"
        },
        {
         "name": "Protein Content (PCO)",
         "rawType": "object",
         "type": "string"
        },
        {
         "name": "Seed Yield per Unit Area (SYUA)",
         "rawType": "int64",
         "type": "integer"
        }
       ],
       "ref": "75534a5a-c880-45c4-ac4d-43f4a1c97add",
       "rows": [
        [
         "0",
         "C1",
         "S1",
         "G5",
         "130.3",
         "111",
         "433.0",
         "732.0",
         "1.4",
         "3.1",
         "33.2",
         "33.6",
         "0.08",
         "1.86",
         "0.82",
         "133943600"
        ],
        [
         "1",
         "C2",
         "S3",
         "G4",
         "132.0",
         "80",
         "334.0",
         "674.0",
         "7.1",
         "2.2",
         "38.5",
         "34.4",
         "0.09",
         "1.87",
         "0.13",
         "12613100"
        ],
        [
         "2",
         "C2",
         "S1",
         "G6",
         "150.0",
         "83",
         "0.49",
         "677.0",
         "1.8",
         "1.3",
         "33.6",
         "35.2",
         "0.07",
         "2.04",
         "0.15",
         "88626100"
        ],
        [
         "3",
         "C1",
         "S1",
         "G1",
         "140.8",
         "66",
         "163.0",
         "745.0",
         "1.1",
         "3.0",
         "33.5",
         "52.3",
         "0.09",
         "2.2",
         "0.14",
         "157577800"
        ],
        [
         "4",
         "C1",
         "S2",
         "G6",
         "175.6",
         "73",
         "795.0",
         "725.0",
         "7.5",
         "2.1",
         "39.6",
         "31.2",
         "0.1",
         "1.88",
         "0.6",
         "72960400"
        ]
       ],
       "shape": {
        "columns": 15,
        "rows": 5
       }
      },
      "text/html": [
       "<div>\n",
       "<style scoped>\n",
       "    .dataframe tbody tr th:only-of-type {\n",
       "        vertical-align: middle;\n",
       "    }\n",
       "\n",
       "    .dataframe tbody tr th {\n",
       "        vertical-align: top;\n",
       "    }\n",
       "\n",
       "    .dataframe thead th {\n",
       "        text-align: right;\n",
       "    }\n",
       "</style>\n",
       "<table border=\"1\" class=\"dataframe\">\n",
       "  <thead>\n",
       "    <tr style=\"text-align: right;\">\n",
       "      <th></th>\n",
       "      <th>Salicylic Acid</th>\n",
       "      <th>Water Stress</th>\n",
       "      <th>Genotypes</th>\n",
       "      <th>Number of Pods (NP)</th>\n",
       "      <th>Biological Weight (BW)</th>\n",
       "      <th>Sugars (Su)</th>\n",
       "      <th>Relative Water Content in Leaves (RWCL)</th>\n",
       "      <th>ChlorophyllA663</th>\n",
       "      <th>Chlorophyllb649</th>\n",
       "      <th>Protein Percentage (PPE)</th>\n",
       "      <th>Weight of 300 Seeds (W3S)</th>\n",
       "      <th>Leaf Area Index (LAI)</th>\n",
       "      <th>Number of Seeds per Pod (NSP)</th>\n",
       "      <th>Protein Content (PCO)</th>\n",
       "      <th>Seed Yield per Unit Area (SYUA)</th>\n",
       "    </tr>\n",
       "  </thead>\n",
       "  <tbody>\n",
       "    <tr>\n",
       "      <th>0</th>\n",
       "      <td>C1</td>\n",
       "      <td>S1</td>\n",
       "      <td>G5</td>\n",
       "      <td>130.3</td>\n",
       "      <td>111</td>\n",
       "      <td>433.00</td>\n",
       "      <td>732.0</td>\n",
       "      <td>1.4</td>\n",
       "      <td>3.1</td>\n",
       "      <td>33.2</td>\n",
       "      <td>33.6</td>\n",
       "      <td>0.08</td>\n",
       "      <td>1.86</td>\n",
       "      <td>0.82</td>\n",
       "      <td>133943600</td>\n",
       "    </tr>\n",
       "    <tr>\n",
       "      <th>1</th>\n",
       "      <td>C2</td>\n",
       "      <td>S3</td>\n",
       "      <td>G4</td>\n",
       "      <td>132.0</td>\n",
       "      <td>80</td>\n",
       "      <td>334.00</td>\n",
       "      <td>674.0</td>\n",
       "      <td>7.1</td>\n",
       "      <td>2.2</td>\n",
       "      <td>38.5</td>\n",
       "      <td>34.4</td>\n",
       "      <td>0.09</td>\n",
       "      <td>1.87</td>\n",
       "      <td>0.13</td>\n",
       "      <td>12613100</td>\n",
       "    </tr>\n",
       "    <tr>\n",
       "      <th>2</th>\n",
       "      <td>C2</td>\n",
       "      <td>S1</td>\n",
       "      <td>G6</td>\n",
       "      <td>150.0</td>\n",
       "      <td>83</td>\n",
       "      <td>0.49</td>\n",
       "      <td>677.0</td>\n",
       "      <td>1.8</td>\n",
       "      <td>1.3</td>\n",
       "      <td>33.6</td>\n",
       "      <td>35.2</td>\n",
       "      <td>0.07</td>\n",
       "      <td>2.04</td>\n",
       "      <td>0.15</td>\n",
       "      <td>88626100</td>\n",
       "    </tr>\n",
       "    <tr>\n",
       "      <th>3</th>\n",
       "      <td>C1</td>\n",
       "      <td>S1</td>\n",
       "      <td>G1</td>\n",
       "      <td>140.8</td>\n",
       "      <td>66</td>\n",
       "      <td>163.00</td>\n",
       "      <td>745.0</td>\n",
       "      <td>1.1</td>\n",
       "      <td>3.0</td>\n",
       "      <td>33.5</td>\n",
       "      <td>52.3</td>\n",
       "      <td>0.09</td>\n",
       "      <td>2.20</td>\n",
       "      <td>0.14</td>\n",
       "      <td>157577800</td>\n",
       "    </tr>\n",
       "    <tr>\n",
       "      <th>4</th>\n",
       "      <td>C1</td>\n",
       "      <td>S2</td>\n",
       "      <td>G6</td>\n",
       "      <td>175.6</td>\n",
       "      <td>73</td>\n",
       "      <td>795.00</td>\n",
       "      <td>725.0</td>\n",
       "      <td>7.5</td>\n",
       "      <td>2.1</td>\n",
       "      <td>39.6</td>\n",
       "      <td>31.2</td>\n",
       "      <td>0.10</td>\n",
       "      <td>1.88</td>\n",
       "      <td>0.6</td>\n",
       "      <td>72960400</td>\n",
       "    </tr>\n",
       "  </tbody>\n",
       "</table>\n",
       "</div>"
      ],
      "text/plain": [
       "  Salicylic Acid Water Stress Genotypes  Number of Pods (NP)  \\\n",
       "0             C1           S1        G5                130.3   \n",
       "1             C2           S3        G4                132.0   \n",
       "2             C2           S1        G6                150.0   \n",
       "3             C1           S1        G1                140.8   \n",
       "4             C1           S2        G6                175.6   \n",
       "\n",
       "   Biological Weight (BW)  Sugars (Su)  \\\n",
       "0                     111       433.00   \n",
       "1                      80       334.00   \n",
       "2                      83         0.49   \n",
       "3                      66       163.00   \n",
       "4                      73       795.00   \n",
       "\n",
       "   Relative Water Content in Leaves (RWCL)  ChlorophyllA663  Chlorophyllb649  \\\n",
       "0                                    732.0              1.4              3.1   \n",
       "1                                    674.0              7.1              2.2   \n",
       "2                                    677.0              1.8              1.3   \n",
       "3                                    745.0              1.1              3.0   \n",
       "4                                    725.0              7.5              2.1   \n",
       "\n",
       "   Protein Percentage (PPE)  Weight of 300 Seeds (W3S)  Leaf Area Index (LAI)  \\\n",
       "0                      33.2                       33.6                   0.08   \n",
       "1                      38.5                       34.4                   0.09   \n",
       "2                      33.6                       35.2                   0.07   \n",
       "3                      33.5                       52.3                   0.09   \n",
       "4                      39.6                       31.2                   0.10   \n",
       "\n",
       "   Number of Seeds per Pod (NSP) Protein Content (PCO)  \\\n",
       "0                           1.86                  0.82   \n",
       "1                           1.87                  0.13   \n",
       "2                           2.04                  0.15   \n",
       "3                           2.20                  0.14   \n",
       "4                           1.88                   0.6   \n",
       "\n",
       "   Seed Yield per Unit Area (SYUA)  \n",
       "0                        133943600  \n",
       "1                         12613100  \n",
       "2                         88626100  \n",
       "3                        157577800  \n",
       "4                         72960400  "
      ]
     },
     "execution_count": 2,
     "metadata": {},
     "output_type": "execute_result"
    }
   ],
   "source": [
    "# data importation\n",
    "df=pd.read_excel('soybean clean dataset.xlsx')\n",
    "df.head()"
   ]
  },
  {
   "cell_type": "code",
   "execution_count": 3,
   "id": "2024dc79",
   "metadata": {},
   "outputs": [
    {
     "data": {
      "text/plain": [
       "(55450, 15)"
      ]
     },
     "execution_count": 3,
     "metadata": {},
     "output_type": "execute_result"
    }
   ],
   "source": [
    "df.shape"
   ]
  },
  {
   "cell_type": "code",
   "execution_count": 4,
   "id": "7be5bc06",
   "metadata": {},
   "outputs": [
    {
     "name": "stdout",
     "output_type": "stream",
     "text": [
      "<class 'pandas.core.frame.DataFrame'>\n",
      "RangeIndex: 55450 entries, 0 to 55449\n",
      "Data columns (total 15 columns):\n",
      " #   Column                                   Non-Null Count  Dtype  \n",
      "---  ------                                   --------------  -----  \n",
      " 0   Salicylic Acid                           55450 non-null  object \n",
      " 1   Water Stress                             55450 non-null  object \n",
      " 2   Genotypes                                55450 non-null  object \n",
      " 3   Number of Pods (NP)                      55450 non-null  float64\n",
      " 4   Biological Weight (BW)                   55450 non-null  int64  \n",
      " 5   Sugars (Su)                              55450 non-null  float64\n",
      " 6   Relative Water Content in Leaves (RWCL)  55450 non-null  float64\n",
      " 7   ChlorophyllA663                          55450 non-null  float64\n",
      " 8   Chlorophyllb649                          55450 non-null  float64\n",
      " 9   Protein Percentage (PPE)                 55450 non-null  float64\n",
      " 10  Weight of 300 Seeds (W3S)                55450 non-null  float64\n",
      " 11  Leaf Area Index (LAI)                    55450 non-null  float64\n",
      " 12  Number of Seeds per Pod (NSP)            55450 non-null  float64\n",
      " 13  Protein Content (PCO)                    55450 non-null  object \n",
      " 14  Seed Yield per Unit Area (SYUA)          55450 non-null  int64  \n",
      "dtypes: float64(9), int64(2), object(4)\n",
      "memory usage: 6.3+ MB\n"
     ]
    }
   ],
   "source": [
    "df.info()"
   ]
  },
  {
   "cell_type": "code",
   "execution_count": 5,
   "id": "2071a613",
   "metadata": {},
   "outputs": [],
   "source": [
    "# Conversion de la variable Protein Content (PCO) en numérique\n",
    "df['Protein Content (PCO)'] = pd.to_numeric(df['Protein Content (PCO)'], errors='coerce')\n"
   ]
  },
  {
   "cell_type": "code",
   "execution_count": 6,
   "id": "5c12cf37",
   "metadata": {},
   "outputs": [
    {
     "name": "stdout",
     "output_type": "stream",
     "text": [
      "<class 'pandas.core.frame.DataFrame'>\n",
      "RangeIndex: 55450 entries, 0 to 55449\n",
      "Data columns (total 15 columns):\n",
      " #   Column                                   Non-Null Count  Dtype  \n",
      "---  ------                                   --------------  -----  \n",
      " 0   Salicylic Acid                           55450 non-null  object \n",
      " 1   Water Stress                             55450 non-null  object \n",
      " 2   Genotypes                                55450 non-null  object \n",
      " 3   Number of Pods (NP)                      55450 non-null  float64\n",
      " 4   Biological Weight (BW)                   55450 non-null  int64  \n",
      " 5   Sugars (Su)                              55450 non-null  float64\n",
      " 6   Relative Water Content in Leaves (RWCL)  55450 non-null  float64\n",
      " 7   ChlorophyllA663                          55450 non-null  float64\n",
      " 8   Chlorophyllb649                          55450 non-null  float64\n",
      " 9   Protein Percentage (PPE)                 55450 non-null  float64\n",
      " 10  Weight of 300 Seeds (W3S)                55450 non-null  float64\n",
      " 11  Leaf Area Index (LAI)                    55450 non-null  float64\n",
      " 12  Number of Seeds per Pod (NSP)            55450 non-null  float64\n",
      " 13  Protein Content (PCO)                    53909 non-null  float64\n",
      " 14  Seed Yield per Unit Area (SYUA)          55450 non-null  int64  \n",
      "dtypes: float64(10), int64(2), object(3)\n",
      "memory usage: 6.3+ MB\n"
     ]
    }
   ],
   "source": [
    "df.info()"
   ]
  },
  {
   "cell_type": "code",
   "execution_count": 7,
   "id": "0a5ac532",
   "metadata": {},
   "outputs": [
    {
     "data": {
      "application/vnd.microsoft.datawrangler.viewer.v0+json": {
       "columns": [
        {
         "name": "index",
         "rawType": "object",
         "type": "string"
        },
        {
         "name": "Salicylic Acid",
         "rawType": "object",
         "type": "unknown"
        },
        {
         "name": "Water Stress",
         "rawType": "object",
         "type": "unknown"
        },
        {
         "name": "Genotypes",
         "rawType": "object",
         "type": "unknown"
        },
        {
         "name": "Number of Pods (NP)",
         "rawType": "float64",
         "type": "float"
        },
        {
         "name": "Biological Weight (BW)",
         "rawType": "float64",
         "type": "float"
        },
        {
         "name": "Sugars (Su)",
         "rawType": "float64",
         "type": "float"
        },
        {
         "name": "Relative Water Content in Leaves (RWCL)",
         "rawType": "float64",
         "type": "float"
        },
        {
         "name": "ChlorophyllA663",
         "rawType": "float64",
         "type": "float"
        },
        {
         "name": "Chlorophyllb649",
         "rawType": "float64",
         "type": "float"
        },
        {
         "name": "Protein Percentage (PPE)",
         "rawType": "float64",
         "type": "float"
        },
        {
         "name": "Weight of 300 Seeds (W3S)",
         "rawType": "float64",
         "type": "float"
        },
        {
         "name": "Leaf Area Index (LAI)",
         "rawType": "float64",
         "type": "float"
        },
        {
         "name": "Number of Seeds per Pod (NSP)",
         "rawType": "float64",
         "type": "float"
        },
        {
         "name": "Protein Content (PCO)",
         "rawType": "float64",
         "type": "float"
        },
        {
         "name": "Seed Yield per Unit Area (SYUA)",
         "rawType": "float64",
         "type": "float"
        }
       ],
       "ref": "95bd1d8e-68e3-4fc2-bd8c-a8e9d5e52f2e",
       "rows": [
        [
         "count",
         "55450",
         "55450",
         "55450",
         "55450.0",
         "55450.0",
         "55450.0",
         "55450.0",
         "55450.0",
         "55450.0",
         "55450.0",
         "55450.0",
         "55450.0",
         "55450.0",
         "53909.0",
         "55450.0"
        ],
        [
         "unique",
         "2",
         "3",
         "6",
         null,
         null,
         null,
         null,
         null,
         null,
         null,
         null,
         null,
         null,
         null,
         null
        ],
        [
         "top",
         "C2",
         "S1",
         "G5",
         null,
         null,
         null,
         null,
         null,
         null,
         null,
         null,
         null,
         null,
         null,
         null
        ],
        [
         "freq",
         "27726",
         "20026",
         "9242",
         null,
         null,
         null,
         null,
         null,
         null,
         null,
         null,
         null,
         null,
         null,
         null
        ],
        [
         "mean",
         null,
         null,
         null,
         "144.93897926059515",
         "114.53388638412984",
         "398.9466102434625",
         "627.2109826871056",
         "3.937669972948602",
         "2.399096483318305",
         "36.042122633002705",
         "35.34912894499549",
         "0.07213219116321011",
         "2.020075743913435",
         "0.47810235767682585",
         "89983026.76146078"
        ],
        [
         "std",
         null,
         null,
         null,
         "20.015994132308006",
         "48.92553266293779",
         "257.4872795568025",
         "184.24864722847872",
         "2.8463165777770403",
         "1.1873234440114881",
         "2.4172047402825223",
         "4.999199962916054",
         "0.02227846852781815",
         "0.24588884214351334",
         "0.22615274324671375",
         "46841084.62027683"
        ],
        [
         "min",
         null,
         null,
         null,
         "75.0",
         "32.0",
         "0.18",
         "0.64",
         "1.0",
         "1.1",
         "31.1",
         "26.4",
         "0.02",
         "1.4",
         "0.12",
         "2470.0"
        ],
        [
         "25%",
         null,
         null,
         null,
         "131.4",
         "80.0",
         "182.0",
         "625.0",
         "1.5",
         "1.3",
         "33.6",
         "32.2",
         "0.06",
         "1.85",
         "0.32",
         "51913200.0"
        ],
        [
         "50%",
         null,
         null,
         null,
         "147.0",
         "102.0",
         "423.0",
         "673.0",
         "2.3",
         "2.2",
         "36.6",
         "34.5",
         "0.08",
         "2.05",
         "0.44",
         "87676500.0"
        ],
        [
         "75%",
         null,
         null,
         null,
         "158.0",
         "133.0",
         "563.0",
         "722.0",
         "6.7",
         "3.1",
         "38.0",
         "37.2",
         "0.09",
         "2.2",
         "0.6",
         "121747600.0"
        ],
        [
         "max",
         null,
         null,
         null,
         "218.0",
         "236.0",
         "998.0",
         "875.0",
         "10.2",
         "7.8",
         "39.9",
         "53.9",
         "0.1",
         "2.6",
         "1.16",
         "217002800.0"
        ]
       ],
       "shape": {
        "columns": 15,
        "rows": 11
       }
      },
      "text/html": [
       "<div>\n",
       "<style scoped>\n",
       "    .dataframe tbody tr th:only-of-type {\n",
       "        vertical-align: middle;\n",
       "    }\n",
       "\n",
       "    .dataframe tbody tr th {\n",
       "        vertical-align: top;\n",
       "    }\n",
       "\n",
       "    .dataframe thead th {\n",
       "        text-align: right;\n",
       "    }\n",
       "</style>\n",
       "<table border=\"1\" class=\"dataframe\">\n",
       "  <thead>\n",
       "    <tr style=\"text-align: right;\">\n",
       "      <th></th>\n",
       "      <th>Salicylic Acid</th>\n",
       "      <th>Water Stress</th>\n",
       "      <th>Genotypes</th>\n",
       "      <th>Number of Pods (NP)</th>\n",
       "      <th>Biological Weight (BW)</th>\n",
       "      <th>Sugars (Su)</th>\n",
       "      <th>Relative Water Content in Leaves (RWCL)</th>\n",
       "      <th>ChlorophyllA663</th>\n",
       "      <th>Chlorophyllb649</th>\n",
       "      <th>Protein Percentage (PPE)</th>\n",
       "      <th>Weight of 300 Seeds (W3S)</th>\n",
       "      <th>Leaf Area Index (LAI)</th>\n",
       "      <th>Number of Seeds per Pod (NSP)</th>\n",
       "      <th>Protein Content (PCO)</th>\n",
       "      <th>Seed Yield per Unit Area (SYUA)</th>\n",
       "    </tr>\n",
       "  </thead>\n",
       "  <tbody>\n",
       "    <tr>\n",
       "      <th>count</th>\n",
       "      <td>55450</td>\n",
       "      <td>55450</td>\n",
       "      <td>55450</td>\n",
       "      <td>55450.000000</td>\n",
       "      <td>55450.000000</td>\n",
       "      <td>55450.00000</td>\n",
       "      <td>55450.000000</td>\n",
       "      <td>55450.000000</td>\n",
       "      <td>55450.000000</td>\n",
       "      <td>55450.000000</td>\n",
       "      <td>55450.000000</td>\n",
       "      <td>55450.000000</td>\n",
       "      <td>55450.000000</td>\n",
       "      <td>53909.000000</td>\n",
       "      <td>5.545000e+04</td>\n",
       "    </tr>\n",
       "    <tr>\n",
       "      <th>unique</th>\n",
       "      <td>2</td>\n",
       "      <td>3</td>\n",
       "      <td>6</td>\n",
       "      <td>NaN</td>\n",
       "      <td>NaN</td>\n",
       "      <td>NaN</td>\n",
       "      <td>NaN</td>\n",
       "      <td>NaN</td>\n",
       "      <td>NaN</td>\n",
       "      <td>NaN</td>\n",
       "      <td>NaN</td>\n",
       "      <td>NaN</td>\n",
       "      <td>NaN</td>\n",
       "      <td>NaN</td>\n",
       "      <td>NaN</td>\n",
       "    </tr>\n",
       "    <tr>\n",
       "      <th>top</th>\n",
       "      <td>C2</td>\n",
       "      <td>S1</td>\n",
       "      <td>G5</td>\n",
       "      <td>NaN</td>\n",
       "      <td>NaN</td>\n",
       "      <td>NaN</td>\n",
       "      <td>NaN</td>\n",
       "      <td>NaN</td>\n",
       "      <td>NaN</td>\n",
       "      <td>NaN</td>\n",
       "      <td>NaN</td>\n",
       "      <td>NaN</td>\n",
       "      <td>NaN</td>\n",
       "      <td>NaN</td>\n",
       "      <td>NaN</td>\n",
       "    </tr>\n",
       "    <tr>\n",
       "      <th>freq</th>\n",
       "      <td>27726</td>\n",
       "      <td>20026</td>\n",
       "      <td>9242</td>\n",
       "      <td>NaN</td>\n",
       "      <td>NaN</td>\n",
       "      <td>NaN</td>\n",
       "      <td>NaN</td>\n",
       "      <td>NaN</td>\n",
       "      <td>NaN</td>\n",
       "      <td>NaN</td>\n",
       "      <td>NaN</td>\n",
       "      <td>NaN</td>\n",
       "      <td>NaN</td>\n",
       "      <td>NaN</td>\n",
       "      <td>NaN</td>\n",
       "    </tr>\n",
       "    <tr>\n",
       "      <th>mean</th>\n",
       "      <td>NaN</td>\n",
       "      <td>NaN</td>\n",
       "      <td>NaN</td>\n",
       "      <td>144.938979</td>\n",
       "      <td>114.533886</td>\n",
       "      <td>398.94661</td>\n",
       "      <td>627.210983</td>\n",
       "      <td>3.937670</td>\n",
       "      <td>2.399096</td>\n",
       "      <td>36.042123</td>\n",
       "      <td>35.349129</td>\n",
       "      <td>0.072132</td>\n",
       "      <td>2.020076</td>\n",
       "      <td>0.478102</td>\n",
       "      <td>8.998303e+07</td>\n",
       "    </tr>\n",
       "    <tr>\n",
       "      <th>std</th>\n",
       "      <td>NaN</td>\n",
       "      <td>NaN</td>\n",
       "      <td>NaN</td>\n",
       "      <td>20.015994</td>\n",
       "      <td>48.925533</td>\n",
       "      <td>257.48728</td>\n",
       "      <td>184.248647</td>\n",
       "      <td>2.846317</td>\n",
       "      <td>1.187323</td>\n",
       "      <td>2.417205</td>\n",
       "      <td>4.999200</td>\n",
       "      <td>0.022278</td>\n",
       "      <td>0.245889</td>\n",
       "      <td>0.226153</td>\n",
       "      <td>4.684108e+07</td>\n",
       "    </tr>\n",
       "    <tr>\n",
       "      <th>min</th>\n",
       "      <td>NaN</td>\n",
       "      <td>NaN</td>\n",
       "      <td>NaN</td>\n",
       "      <td>75.000000</td>\n",
       "      <td>32.000000</td>\n",
       "      <td>0.18000</td>\n",
       "      <td>0.640000</td>\n",
       "      <td>1.000000</td>\n",
       "      <td>1.100000</td>\n",
       "      <td>31.100000</td>\n",
       "      <td>26.400000</td>\n",
       "      <td>0.020000</td>\n",
       "      <td>1.400000</td>\n",
       "      <td>0.120000</td>\n",
       "      <td>2.470000e+03</td>\n",
       "    </tr>\n",
       "    <tr>\n",
       "      <th>25%</th>\n",
       "      <td>NaN</td>\n",
       "      <td>NaN</td>\n",
       "      <td>NaN</td>\n",
       "      <td>131.400000</td>\n",
       "      <td>80.000000</td>\n",
       "      <td>182.00000</td>\n",
       "      <td>625.000000</td>\n",
       "      <td>1.500000</td>\n",
       "      <td>1.300000</td>\n",
       "      <td>33.600000</td>\n",
       "      <td>32.200000</td>\n",
       "      <td>0.060000</td>\n",
       "      <td>1.850000</td>\n",
       "      <td>0.320000</td>\n",
       "      <td>5.191320e+07</td>\n",
       "    </tr>\n",
       "    <tr>\n",
       "      <th>50%</th>\n",
       "      <td>NaN</td>\n",
       "      <td>NaN</td>\n",
       "      <td>NaN</td>\n",
       "      <td>147.000000</td>\n",
       "      <td>102.000000</td>\n",
       "      <td>423.00000</td>\n",
       "      <td>673.000000</td>\n",
       "      <td>2.300000</td>\n",
       "      <td>2.200000</td>\n",
       "      <td>36.600000</td>\n",
       "      <td>34.500000</td>\n",
       "      <td>0.080000</td>\n",
       "      <td>2.050000</td>\n",
       "      <td>0.440000</td>\n",
       "      <td>8.767650e+07</td>\n",
       "    </tr>\n",
       "    <tr>\n",
       "      <th>75%</th>\n",
       "      <td>NaN</td>\n",
       "      <td>NaN</td>\n",
       "      <td>NaN</td>\n",
       "      <td>158.000000</td>\n",
       "      <td>133.000000</td>\n",
       "      <td>563.00000</td>\n",
       "      <td>722.000000</td>\n",
       "      <td>6.700000</td>\n",
       "      <td>3.100000</td>\n",
       "      <td>38.000000</td>\n",
       "      <td>37.200000</td>\n",
       "      <td>0.090000</td>\n",
       "      <td>2.200000</td>\n",
       "      <td>0.600000</td>\n",
       "      <td>1.217476e+08</td>\n",
       "    </tr>\n",
       "    <tr>\n",
       "      <th>max</th>\n",
       "      <td>NaN</td>\n",
       "      <td>NaN</td>\n",
       "      <td>NaN</td>\n",
       "      <td>218.000000</td>\n",
       "      <td>236.000000</td>\n",
       "      <td>998.00000</td>\n",
       "      <td>875.000000</td>\n",
       "      <td>10.200000</td>\n",
       "      <td>7.800000</td>\n",
       "      <td>39.900000</td>\n",
       "      <td>53.900000</td>\n",
       "      <td>0.100000</td>\n",
       "      <td>2.600000</td>\n",
       "      <td>1.160000</td>\n",
       "      <td>2.170028e+08</td>\n",
       "    </tr>\n",
       "  </tbody>\n",
       "</table>\n",
       "</div>"
      ],
      "text/plain": [
       "       Salicylic Acid Water Stress Genotypes  Number of Pods (NP)  \\\n",
       "count           55450        55450     55450         55450.000000   \n",
       "unique              2            3         6                  NaN   \n",
       "top                C2           S1        G5                  NaN   \n",
       "freq            27726        20026      9242                  NaN   \n",
       "mean              NaN          NaN       NaN           144.938979   \n",
       "std               NaN          NaN       NaN            20.015994   \n",
       "min               NaN          NaN       NaN            75.000000   \n",
       "25%               NaN          NaN       NaN           131.400000   \n",
       "50%               NaN          NaN       NaN           147.000000   \n",
       "75%               NaN          NaN       NaN           158.000000   \n",
       "max               NaN          NaN       NaN           218.000000   \n",
       "\n",
       "        Biological Weight (BW)  Sugars (Su)  \\\n",
       "count             55450.000000  55450.00000   \n",
       "unique                     NaN          NaN   \n",
       "top                        NaN          NaN   \n",
       "freq                       NaN          NaN   \n",
       "mean                114.533886    398.94661   \n",
       "std                  48.925533    257.48728   \n",
       "min                  32.000000      0.18000   \n",
       "25%                  80.000000    182.00000   \n",
       "50%                 102.000000    423.00000   \n",
       "75%                 133.000000    563.00000   \n",
       "max                 236.000000    998.00000   \n",
       "\n",
       "        Relative Water Content in Leaves (RWCL)  ChlorophyllA663  \\\n",
       "count                              55450.000000     55450.000000   \n",
       "unique                                      NaN              NaN   \n",
       "top                                         NaN              NaN   \n",
       "freq                                        NaN              NaN   \n",
       "mean                                 627.210983         3.937670   \n",
       "std                                  184.248647         2.846317   \n",
       "min                                    0.640000         1.000000   \n",
       "25%                                  625.000000         1.500000   \n",
       "50%                                  673.000000         2.300000   \n",
       "75%                                  722.000000         6.700000   \n",
       "max                                  875.000000        10.200000   \n",
       "\n",
       "        Chlorophyllb649  Protein Percentage (PPE)  Weight of 300 Seeds (W3S)  \\\n",
       "count      55450.000000              55450.000000               55450.000000   \n",
       "unique              NaN                       NaN                        NaN   \n",
       "top                 NaN                       NaN                        NaN   \n",
       "freq                NaN                       NaN                        NaN   \n",
       "mean           2.399096                 36.042123                  35.349129   \n",
       "std            1.187323                  2.417205                   4.999200   \n",
       "min            1.100000                 31.100000                  26.400000   \n",
       "25%            1.300000                 33.600000                  32.200000   \n",
       "50%            2.200000                 36.600000                  34.500000   \n",
       "75%            3.100000                 38.000000                  37.200000   \n",
       "max            7.800000                 39.900000                  53.900000   \n",
       "\n",
       "        Leaf Area Index (LAI)  Number of Seeds per Pod (NSP)  \\\n",
       "count            55450.000000                   55450.000000   \n",
       "unique                    NaN                            NaN   \n",
       "top                       NaN                            NaN   \n",
       "freq                      NaN                            NaN   \n",
       "mean                 0.072132                       2.020076   \n",
       "std                  0.022278                       0.245889   \n",
       "min                  0.020000                       1.400000   \n",
       "25%                  0.060000                       1.850000   \n",
       "50%                  0.080000                       2.050000   \n",
       "75%                  0.090000                       2.200000   \n",
       "max                  0.100000                       2.600000   \n",
       "\n",
       "        Protein Content (PCO)  Seed Yield per Unit Area (SYUA)  \n",
       "count            53909.000000                     5.545000e+04  \n",
       "unique                    NaN                              NaN  \n",
       "top                       NaN                              NaN  \n",
       "freq                      NaN                              NaN  \n",
       "mean                 0.478102                     8.998303e+07  \n",
       "std                  0.226153                     4.684108e+07  \n",
       "min                  0.120000                     2.470000e+03  \n",
       "25%                  0.320000                     5.191320e+07  \n",
       "50%                  0.440000                     8.767650e+07  \n",
       "75%                  0.600000                     1.217476e+08  \n",
       "max                  1.160000                     2.170028e+08  "
      ]
     },
     "execution_count": 7,
     "metadata": {},
     "output_type": "execute_result"
    }
   ],
   "source": [
    "df.describe(include='all')"
   ]
  },
  {
   "cell_type": "code",
   "execution_count": 8,
   "id": "3310406f",
   "metadata": {},
   "outputs": [
    {
     "data": {
      "text/plain": [
       "1541"
      ]
     },
     "execution_count": 8,
     "metadata": {},
     "output_type": "execute_result"
    }
   ],
   "source": [
    "df['Protein Content (PCO)'].isna().sum()"
   ]
  },
  {
   "cell_type": "code",
   "execution_count": 9,
   "id": "1d0bd3fa",
   "metadata": {},
   "outputs": [
    {
     "data": {
      "text/plain": [
       "0"
      ]
     },
     "execution_count": 9,
     "metadata": {},
     "output_type": "execute_result"
    }
   ],
   "source": [
    "# Remplace nan values with median\n",
    "df.loc[df['Protein Content (PCO)'].isna()]=df['Protein Content (PCO)'].median()\n",
    "df['Protein Content (PCO)'].isna().sum()"
   ]
  },
  {
   "cell_type": "code",
   "execution_count": 10,
   "id": "823e89e9",
   "metadata": {},
   "outputs": [
    {
     "data": {
      "text/plain": [
       "Index(['Salicylic Acid', 'Water Stress', 'Genotypes', 'Number of Pods (NP)',\n",
       "       'Biological Weight (BW)', 'Sugars (Su)',\n",
       "       'Relative Water Content in Leaves (RWCL)', 'ChlorophyllA663',\n",
       "       'Chlorophyllb649', 'Protein Percentage (PPE)',\n",
       "       'Weight of 300 Seeds (W3S)', 'Leaf Area Index (LAI)',\n",
       "       'Number of Seeds per Pod (NSP)', 'Protein Content (PCO)',\n",
       "       'Seed Yield per Unit Area (SYUA)'],\n",
       "      dtype='object')"
      ]
     },
     "execution_count": 10,
     "metadata": {},
     "output_type": "execute_result"
    }
   ],
   "source": [
    "df.columns"
   ]
  },
  {
   "cell_type": "code",
   "execution_count": 11,
   "id": "326e809d",
   "metadata": {},
   "outputs": [
    {
     "data": {
      "application/vnd.microsoft.datawrangler.viewer.v0+json": {
       "columns": [
        {
         "name": "Genotypes",
         "rawType": "object",
         "type": "unknown"
        },
        {
         "name": "count",
         "rawType": "int64",
         "type": "integer"
        }
       ],
       "ref": "a0d068e9-3d4c-4ad0-9e4b-6ede1ea27155",
       "rows": [
        [
         "G2",
         "9242"
        ],
        [
         "G3",
         "9242"
        ],
        [
         "G6",
         "9241"
        ],
        [
         "G1",
         "9241"
        ],
        [
         "G4",
         "8728"
        ],
        [
         "G5",
         "8215"
        ],
        [
         "0.44",
         "1541"
        ]
       ],
       "shape": {
        "columns": 1,
        "rows": 7
       }
      },
      "text/plain": [
       "Genotypes\n",
       "G2      9242\n",
       "G3      9242\n",
       "G6      9241\n",
       "G1      9241\n",
       "G4      8728\n",
       "G5      8215\n",
       "0.44    1541\n",
       "Name: count, dtype: int64"
      ]
     },
     "execution_count": 11,
     "metadata": {},
     "output_type": "execute_result"
    }
   ],
   "source": [
    "df['Genotypes'].value_counts()"
   ]
  },
  {
   "cell_type": "code",
   "execution_count": 12,
   "id": "5a4cf0c8",
   "metadata": {},
   "outputs": [
    {
     "data": {
      "application/vnd.microsoft.datawrangler.viewer.v0+json": {
       "columns": [
        {
         "name": "Salicylic Acid",
         "rawType": "object",
         "type": "unknown"
        },
        {
         "name": "count",
         "rawType": "int64",
         "type": "integer"
        }
       ],
       "ref": "cd1fded4-2751-41da-b52c-622ea0c858db",
       "rows": [
        [
         "C1",
         "27210"
        ],
        [
         "C2",
         "26699"
        ],
        [
         "0.44",
         "1541"
        ]
       ],
       "shape": {
        "columns": 1,
        "rows": 3
       }
      },
      "text/plain": [
       "Salicylic Acid\n",
       "C1      27210\n",
       "C2      26699\n",
       "0.44     1541\n",
       "Name: count, dtype: int64"
      ]
     },
     "execution_count": 12,
     "metadata": {},
     "output_type": "execute_result"
    }
   ],
   "source": [
    "df['Salicylic Acid'].value_counts()"
   ]
  },
  {
   "cell_type": "code",
   "execution_count": 13,
   "id": "c5c17ee6",
   "metadata": {},
   "outputs": [
    {
     "data": {
      "application/vnd.microsoft.datawrangler.viewer.v0+json": {
       "columns": [
        {
         "name": "Water Stress",
         "rawType": "object",
         "type": "unknown"
        },
        {
         "name": "count",
         "rawType": "int64",
         "type": "integer"
        }
       ],
       "ref": "241aeaa8-19ab-4fb2-8a28-2045be67ab21",
       "rows": [
        [
         "S1",
         "18485"
        ],
        [
         "S3",
         "18484"
        ],
        [
         "S2",
         "16940"
        ],
        [
         "0.44",
         "1541"
        ]
       ],
       "shape": {
        "columns": 1,
        "rows": 4
       }
      },
      "text/plain": [
       "Water Stress\n",
       "S1      18485\n",
       "S3      18484\n",
       "S2      16940\n",
       "0.44     1541\n",
       "Name: count, dtype: int64"
      ]
     },
     "execution_count": 13,
     "metadata": {},
     "output_type": "execute_result"
    }
   ],
   "source": [
    "df['Water Stress'].value_counts()"
   ]
  },
  {
   "cell_type": "code",
   "execution_count": 14,
   "id": "bd1d5a65",
   "metadata": {},
   "outputs": [
    {
     "data": {
      "application/vnd.microsoft.datawrangler.viewer.v0+json": {
       "columns": [
        {
         "name": "index",
         "rawType": "object",
         "type": "string"
        },
        {
         "name": "0",
         "rawType": "int64",
         "type": "integer"
        }
       ],
       "ref": "645227be-ac0b-449a-be04-38827816d1b2",
       "rows": [
        [
         "Salicylic Acid",
         "0"
        ],
        [
         "Water Stress",
         "0"
        ],
        [
         "Genotypes",
         "0"
        ],
        [
         "Number of Pods (NP)",
         "0"
        ],
        [
         "Biological Weight (BW)",
         "0"
        ],
        [
         "Sugars (Su)",
         "0"
        ],
        [
         "Relative Water Content in Leaves (RWCL)",
         "0"
        ],
        [
         "ChlorophyllA663",
         "0"
        ],
        [
         "Chlorophyllb649",
         "0"
        ],
        [
         "Protein Percentage (PPE)",
         "0"
        ],
        [
         "Weight of 300 Seeds (W3S)",
         "0"
        ],
        [
         "Leaf Area Index (LAI)",
         "0"
        ],
        [
         "Number of Seeds per Pod (NSP)",
         "0"
        ],
        [
         "Protein Content (PCO)",
         "0"
        ],
        [
         "Seed Yield per Unit Area (SYUA)",
         "0"
        ]
       ],
       "shape": {
        "columns": 1,
        "rows": 15
       }
      },
      "text/plain": [
       "Salicylic Acid                             0\n",
       "Water Stress                               0\n",
       "Genotypes                                  0\n",
       "Number of Pods (NP)                        0\n",
       "Biological Weight (BW)                     0\n",
       "Sugars (Su)                                0\n",
       "Relative Water Content in Leaves (RWCL)    0\n",
       "ChlorophyllA663                            0\n",
       "Chlorophyllb649                            0\n",
       "Protein Percentage (PPE)                   0\n",
       "Weight of 300 Seeds (W3S)                  0\n",
       "Leaf Area Index (LAI)                      0\n",
       "Number of Seeds per Pod (NSP)              0\n",
       "Protein Content (PCO)                      0\n",
       "Seed Yield per Unit Area (SYUA)            0\n",
       "dtype: int64"
      ]
     },
     "execution_count": 14,
     "metadata": {},
     "output_type": "execute_result"
    }
   ],
   "source": [
    "df.isnull().sum()"
   ]
  },
  {
   "cell_type": "code",
   "execution_count": 15,
   "id": "01d935b6",
   "metadata": {},
   "outputs": [
    {
     "data": {
      "application/vnd.microsoft.datawrangler.viewer.v0+json": {
       "columns": [
        {
         "name": "index",
         "rawType": "object",
         "type": "string"
        },
        {
         "name": "0",
         "rawType": "int64",
         "type": "integer"
        }
       ],
       "ref": "a325465c-f630-4414-bd65-b1ee1d34d194",
       "rows": [
        [
         "Salicylic Acid",
         "0"
        ],
        [
         "Water Stress",
         "0"
        ],
        [
         "Genotypes",
         "0"
        ],
        [
         "Number of Pods (NP)",
         "0"
        ],
        [
         "Biological Weight (BW)",
         "0"
        ],
        [
         "Sugars (Su)",
         "0"
        ],
        [
         "Relative Water Content in Leaves (RWCL)",
         "0"
        ],
        [
         "ChlorophyllA663",
         "0"
        ],
        [
         "Chlorophyllb649",
         "0"
        ],
        [
         "Protein Percentage (PPE)",
         "0"
        ],
        [
         "Weight of 300 Seeds (W3S)",
         "0"
        ],
        [
         "Leaf Area Index (LAI)",
         "0"
        ],
        [
         "Number of Seeds per Pod (NSP)",
         "0"
        ],
        [
         "Protein Content (PCO)",
         "0"
        ],
        [
         "Seed Yield per Unit Area (SYUA)",
         "0"
        ]
       ],
       "shape": {
        "columns": 1,
        "rows": 15
       }
      },
      "text/plain": [
       "Salicylic Acid                             0\n",
       "Water Stress                               0\n",
       "Genotypes                                  0\n",
       "Number of Pods (NP)                        0\n",
       "Biological Weight (BW)                     0\n",
       "Sugars (Su)                                0\n",
       "Relative Water Content in Leaves (RWCL)    0\n",
       "ChlorophyllA663                            0\n",
       "Chlorophyllb649                            0\n",
       "Protein Percentage (PPE)                   0\n",
       "Weight of 300 Seeds (W3S)                  0\n",
       "Leaf Area Index (LAI)                      0\n",
       "Number of Seeds per Pod (NSP)              0\n",
       "Protein Content (PCO)                      0\n",
       "Seed Yield per Unit Area (SYUA)            0\n",
       "dtype: int64"
      ]
     },
     "execution_count": 15,
     "metadata": {},
     "output_type": "execute_result"
    }
   ],
   "source": [
    "df.isna().sum()"
   ]
  },
  {
   "cell_type": "code",
   "execution_count": 16,
   "id": "3ff5cdf7",
   "metadata": {},
   "outputs": [],
   "source": [
    "# categorical features\n",
    "cat_features = ['Genotypes', 'Salicylic Acid', 'Water Stress']\n",
    "# numerical features\n",
    "num_features = df.drop(columns=cat_features).columns.tolist()"
   ]
  },
  {
   "cell_type": "code",
   "execution_count": 17,
   "id": "f36e9644",
   "metadata": {},
   "outputs": [
    {
     "data": {
      "image/png": "[encoded data removed]",
      "text/plain": [
       "<Figure size 640x480 with 2 Axes>"
      ]
     },
     "metadata": {},
     "output_type": "display_data"
    }
   ],
   "source": [
    "# Matrice de correlation\n",
    "sns.heatmap(df[num_features].corr(), annot=True, cmap='coolwarm', fmt='.2f')\n",
    "plt.show()"
   ]
  },
  {
   "cell_type": "code",
   "execution_count": 18,
   "id": "32693206",
   "metadata": {},
   "outputs": [
    {
     "data": {
      "application/vnd.microsoft.datawrangler.viewer.v0+json": {
       "columns": [
        {
         "name": "index",
         "rawType": "object",
         "type": "string"
        },
        {
         "name": "Seed Yield per Unit Area (SYUA)",
         "rawType": "float64",
         "type": "float"
        }
       ],
       "ref": "2501ee46-1601-46f3-817a-5aa07d255022",
       "rows": [
        [
         "Seed Yield per Unit Area (SYUA)",
         "1.0"
        ],
        [
         "Biological Weight (BW)",
         "0.6310468774731759"
        ],
        [
         "Weight of 300 Seeds (W3S)",
         "0.5120008988627293"
        ],
        [
         "Number of Seeds per Pod (NSP)",
         "0.43543545649725995"
        ],
        [
         "Number of Pods (NP)",
         "0.37460973827912397"
        ],
        [
         "Protein Percentage (PPE)",
         "0.2857965246158334"
        ],
        [
         "Relative Water Content in Leaves (RWCL)",
         "0.20627928836863443"
        ],
        [
         "Protein Content (PCO)",
         "0.06669622287537215"
        ],
        [
         "Chlorophyllb649",
         "0.04517831580411486"
        ],
        [
         "Sugars (Su)",
         "-0.0312629812217892"
        ],
        [
         "ChlorophyllA663",
         "-0.1460475291466205"
        ],
        [
         "Leaf Area Index (LAI)",
         "-0.24424845806352452"
        ]
       ],
       "shape": {
        "columns": 1,
        "rows": 12
       }
      },
      "text/plain": [
       "Seed Yield per Unit Area (SYUA)            1.000000\n",
       "Biological Weight (BW)                     0.631047\n",
       "Weight of 300 Seeds (W3S)                  0.512001\n",
       "Number of Seeds per Pod (NSP)              0.435435\n",
       "Number of Pods (NP)                        0.374610\n",
       "Protein Percentage (PPE)                   0.285797\n",
       "Relative Water Content in Leaves (RWCL)    0.206279\n",
       "Protein Content (PCO)                      0.066696\n",
       "Chlorophyllb649                            0.045178\n",
       "Sugars (Su)                               -0.031263\n",
       "ChlorophyllA663                           -0.146048\n",
       "Leaf Area Index (LAI)                     -0.244248\n",
       "Name: Seed Yield per Unit Area (SYUA), dtype: float64"
      ]
     },
     "execution_count": 18,
     "metadata": {},
     "output_type": "execute_result"
    }
   ],
   "source": [
    "# Classement des variables qui ont une forte corrélation avec la variable cible 'Seed Yield per Unit Area (SYUA)'\n",
    "df[num_features].corr()['Seed Yield per Unit Area (SYUA)'].sort_values(ascending=False)"
   ]
  },
  {
   "cell_type": "code",
   "execution_count": 19,
   "id": "fedf1a34",
   "metadata": {},
   "outputs": [
    {
     "data": {
      "image/png": "[encoded data removed]",
      "text/plain": [
       "<Figure size 640x480 with 1 Axes>"
      ]
     },
     "metadata": {},
     "output_type": "display_data"
    }
   ],
   "source": [
    "# distribution of target\n",
    "sns.histplot(df['Seed Yield per Unit Area (SYUA)'], kde=True, bins=30)\n",
    "plt.show()"
   ]
  },
  {
   "cell_type": "code",
   "execution_count": 20,
   "id": "f14ee187",
   "metadata": {},
   "outputs": [
    {
     "data": {
      "image/png": "[encoded data removed]",
      "text/plain": [
       "<Figure size 1500x1000 with 9 Axes>"
      ]
     },
     "metadata": {},
     "output_type": "display_data"
    }
   ],
   "source": [
    "# Distribution of numerical features\n",
    "fig, axes = plt.subplots(nrows=3, ncols=3, figsize=(15, 10))  \n",
    "sns.histplot(df['Biological Weight (BW)'], kde=True, bins=30, ax=axes[0, 0])\n",
    "sns.histplot(df['ChlorophyllA663'], kde=True, bins=30, ax=axes[0, 1])\n",
    "sns.histplot(df['Chlorophyllb649'], kde=True, bins=30, ax=axes[0, 2])\n",
    "sns.histplot(df['Number of Seeds per Pod (NSP)'], kde=True, bins=30, ax=axes[1, 0])\n",
    "sns.histplot(df['Number of Pods (NP)'], kde=True, bins=30, ax=axes[1, 1])\n",
    "sns.histplot(df['Leaf Area Index (LAI)'], kde=True, bins=30, ax=axes[1, 2])  \n",
    "sns.histplot(df['Relative Water Content in Leaves (RWCL)'], kde=True, bins=30, ax=axes[2, 0])  \n",
    "sns.histplot(df['Protein Content (PCO)'], kde=True, bins=30, ax=axes[2, 1])    \n",
    "sns.histplot(df['Seed Yield per Unit Area (SYUA)'], kde=True, bins=30, ax=axes[2, 2])\n",
    "plt.tight_layout()\n",
    "plt.show()"
   ]
  },
  {
   "cell_type": "code",
   "execution_count": 21,
   "id": "5e25a70e",
   "metadata": {},
   "outputs": [
    {
     "data": {
      "image/png": "[encoded data removed]",
      "text/plain": [
       "<Figure size 640x480 with 1 Axes>"
      ]
     },
     "metadata": {},
     "output_type": "display_data"
    }
   ],
   "source": [
    "# boxplot de la variable cible par rapport aux variables categorique\n",
    "sns.boxplot(x='Genotypes', y='Seed Yield per Unit Area (SYUA)', data=df)\n",
    "plt.title('Seed Yield per Unit Area by Genotypes')\n",
    "plt.show()"
   ]
  },
  {
   "cell_type": "markdown",
   "id": "0d674a03",
   "metadata": {},
   "source": []
  },
  {
   "cell_type": "code",
   "execution_count": 22,
   "id": "7eb25b00",
   "metadata": {},
   "outputs": [
    {
     "data": {
      "image/png": "[encoded data removed]",
      "text/plain": [
       "<Figure size 640x480 with 1 Axes>"
      ]
     },
     "metadata": {},
     "output_type": "display_data"
    }
   ],
   "source": [
    "# boxeplot de la variable salicylic acid par rapport aux seed yield\n",
    "sns.boxplot(x='Salicylic Acid', y='Seed Yield per Unit Area (SYUA)', data=df)\n",
    "plt.title('Seed Yield per Unit Area by Salicylic Acid')\n",
    "plt.show()"
   ]
  },
  {
   "cell_type": "code",
   "execution_count": 23,
   "id": "c41ed5ad",
   "metadata": {},
   "outputs": [
    {
     "data": {
      "image/png": "[encoded data removed]",
      "text/plain": [
       "<Figure size 640x480 with 1 Axes>"
      ]
     },
     "metadata": {},
     "output_type": "display_data"
    }
   ],
   "source": [
    "# boxeplot de la variable water stress par rapport aux seed yield\n",
    "sns.boxplot(x='Water Stress', y='Seed Yield per Unit Area (SYUA)', data=df) \n",
    "plt.show()"
   ]
  },
  {
   "cell_type": "code",
   "execution_count": 24,
   "id": "a93e472c",
   "metadata": {},
   "outputs": [
    {
     "data": {
      "application/vnd.microsoft.datawrangler.viewer.v0+json": {
       "columns": [
        {
         "name": "index",
         "rawType": "int64",
         "type": "integer"
        },
        {
         "name": "Salicylic Acid",
         "rawType": "object",
         "type": "string"
        },
        {
         "name": "Water Stress",
         "rawType": "object",
         "type": "string"
        },
        {
         "name": "Genotypes",
         "rawType": "object",
         "type": "string"
        },
        {
         "name": "Number of Pods (NP)",
         "rawType": "float64",
         "type": "float"
        },
        {
         "name": "Biological Weight (BW)",
         "rawType": "float64",
         "type": "float"
        },
        {
         "name": "Sugars (Su)",
         "rawType": "float64",
         "type": "float"
        },
        {
         "name": "Relative Water Content in Leaves (RWCL)",
         "rawType": "float64",
         "type": "float"
        },
        {
         "name": "ChlorophyllA663",
         "rawType": "float64",
         "type": "float"
        },
        {
         "name": "Chlorophyllb649",
         "rawType": "float64",
         "type": "float"
        },
        {
         "name": "Protein Percentage (PPE)",
         "rawType": "float64",
         "type": "float"
        },
        {
         "name": "Weight of 300 Seeds (W3S)",
         "rawType": "float64",
         "type": "float"
        },
        {
         "name": "Leaf Area Index (LAI)",
         "rawType": "float64",
         "type": "float"
        },
        {
         "name": "Number of Seeds per Pod (NSP)",
         "rawType": "float64",
         "type": "float"
        },
        {
         "name": "Protein Content (PCO)",
         "rawType": "float64",
         "type": "float"
        },
        {
         "name": "Seed Yield per Unit Area (SYUA)",
         "rawType": "float64",
         "type": "float"
        }
       ],
       "ref": "021a52d9-c524-44c9-aaf7-04c14fefc4d2",
       "rows": [
        [
         "0",
         "C1",
         "S1",
         "G5",
         "130.3",
         "111.0",
         "433.0",
         "732.0",
         "1.4",
         "3.1",
         "33.2",
         "33.6",
         "0.08",
         "1.86",
         "0.82",
         "133943600.0"
        ],
        [
         "1",
         "C2",
         "S3",
         "G4",
         "132.0",
         "80.0",
         "334.0",
         "674.0",
         "7.1",
         "2.2",
         "38.5",
         "34.4",
         "0.09",
         "1.87",
         "0.13",
         "12613100.0"
        ],
        [
         "2",
         "C2",
         "S1",
         "G6",
         "150.0",
         "83.0",
         "0.49",
         "677.0",
         "1.8",
         "1.3",
         "33.6",
         "35.2",
         "0.07",
         "2.04",
         "0.15",
         "88626100.0"
        ],
        [
         "3",
         "C1",
         "S1",
         "G1",
         "140.8",
         "66.0",
         "163.0",
         "745.0",
         "1.1",
         "3.0",
         "33.5",
         "52.3",
         "0.09",
         "2.2",
         "0.14",
         "157577800.0"
        ],
        [
         "4",
         "C1",
         "S2",
         "G6",
         "175.6",
         "73.0",
         "795.0",
         "725.0",
         "7.5",
         "2.1",
         "39.6",
         "31.2",
         "0.1",
         "1.88",
         "0.6",
         "72960400.0"
        ]
       ],
       "shape": {
        "columns": 15,
        "rows": 5
       }
      },
      "text/html": [
       "<div>\n",
       "<style scoped>\n",
       "    .dataframe tbody tr th:only-of-type {\n",
       "        vertical-align: middle;\n",
       "    }\n",
       "\n",
       "    .dataframe tbody tr th {\n",
       "        vertical-align: top;\n",
       "    }\n",
       "\n",
       "    .dataframe thead th {\n",
       "        text-align: right;\n",
       "    }\n",
       "</style>\n",
       "<table border=\"1\" class=\"dataframe\">\n",
       "  <thead>\n",
       "    <tr style=\"text-align: right;\">\n",
       "      <th></th>\n",
       "      <th>Salicylic Acid</th>\n",
       "      <th>Water Stress</th>\n",
       "      <th>Genotypes</th>\n",
       "      <th>Number of Pods (NP)</th>\n",
       "      <th>Biological Weight (BW)</th>\n",
       "      <th>Sugars (Su)</th>\n",
       "      <th>Relative Water Content in Leaves (RWCL)</th>\n",
       "      <th>ChlorophyllA663</th>\n",
       "      <th>Chlorophyllb649</th>\n",
       "      <th>Protein Percentage (PPE)</th>\n",
       "      <th>Weight of 300 Seeds (W3S)</th>\n",
       "      <th>Leaf Area Index (LAI)</th>\n",
       "      <th>Number of Seeds per Pod (NSP)</th>\n",
       "      <th>Protein Content (PCO)</th>\n",
       "      <th>Seed Yield per Unit Area (SYUA)</th>\n",
       "    </tr>\n",
       "  </thead>\n",
       "  <tbody>\n",
       "    <tr>\n",
       "      <th>0</th>\n",
       "      <td>C1</td>\n",
       "      <td>S1</td>\n",
       "      <td>G5</td>\n",
       "      <td>130.3</td>\n",
       "      <td>111.0</td>\n",
       "      <td>433.00</td>\n",
       "      <td>732.0</td>\n",
       "      <td>1.4</td>\n",
       "      <td>3.1</td>\n",
       "      <td>33.2</td>\n",
       "      <td>33.6</td>\n",
       "      <td>0.08</td>\n",
       "      <td>1.86</td>\n",
       "      <td>0.82</td>\n",
       "      <td>133943600.0</td>\n",
       "    </tr>\n",
       "    <tr>\n",
       "      <th>1</th>\n",
       "      <td>C2</td>\n",
       "      <td>S3</td>\n",
       "      <td>G4</td>\n",
       "      <td>132.0</td>\n",
       "      <td>80.0</td>\n",
       "      <td>334.00</td>\n",
       "      <td>674.0</td>\n",
       "      <td>7.1</td>\n",
       "      <td>2.2</td>\n",
       "      <td>38.5</td>\n",
       "      <td>34.4</td>\n",
       "      <td>0.09</td>\n",
       "      <td>1.87</td>\n",
       "      <td>0.13</td>\n",
       "      <td>12613100.0</td>\n",
       "    </tr>\n",
       "    <tr>\n",
       "      <th>2</th>\n",
       "      <td>C2</td>\n",
       "      <td>S1</td>\n",
       "      <td>G6</td>\n",
       "      <td>150.0</td>\n",
       "      <td>83.0</td>\n",
       "      <td>0.49</td>\n",
       "      <td>677.0</td>\n",
       "      <td>1.8</td>\n",
       "      <td>1.3</td>\n",
       "      <td>33.6</td>\n",
       "      <td>35.2</td>\n",
       "      <td>0.07</td>\n",
       "      <td>2.04</td>\n",
       "      <td>0.15</td>\n",
       "      <td>88626100.0</td>\n",
       "    </tr>\n",
       "    <tr>\n",
       "      <th>3</th>\n",
       "      <td>C1</td>\n",
       "      <td>S1</td>\n",
       "      <td>G1</td>\n",
       "      <td>140.8</td>\n",
       "      <td>66.0</td>\n",
       "      <td>163.00</td>\n",
       "      <td>745.0</td>\n",
       "      <td>1.1</td>\n",
       "      <td>3.0</td>\n",
       "      <td>33.5</td>\n",
       "      <td>52.3</td>\n",
       "      <td>0.09</td>\n",
       "      <td>2.20</td>\n",
       "      <td>0.14</td>\n",
       "      <td>157577800.0</td>\n",
       "    </tr>\n",
       "    <tr>\n",
       "      <th>4</th>\n",
       "      <td>C1</td>\n",
       "      <td>S2</td>\n",
       "      <td>G6</td>\n",
       "      <td>175.6</td>\n",
       "      <td>73.0</td>\n",
       "      <td>795.00</td>\n",
       "      <td>725.0</td>\n",
       "      <td>7.5</td>\n",
       "      <td>2.1</td>\n",
       "      <td>39.6</td>\n",
       "      <td>31.2</td>\n",
       "      <td>0.10</td>\n",
       "      <td>1.88</td>\n",
       "      <td>0.60</td>\n",
       "      <td>72960400.0</td>\n",
       "    </tr>\n",
       "  </tbody>\n",
       "</table>\n",
       "</div>"
      ],
      "text/plain": [
       "  Salicylic Acid Water Stress Genotypes  Number of Pods (NP)  \\\n",
       "0             C1           S1        G5                130.3   \n",
       "1             C2           S3        G4                132.0   \n",
       "2             C2           S1        G6                150.0   \n",
       "3             C1           S1        G1                140.8   \n",
       "4             C1           S2        G6                175.6   \n",
       "\n",
       "   Biological Weight (BW)  Sugars (Su)  \\\n",
       "0                   111.0       433.00   \n",
       "1                    80.0       334.00   \n",
       "2                    83.0         0.49   \n",
       "3                    66.0       163.00   \n",
       "4                    73.0       795.00   \n",
       "\n",
       "   Relative Water Content in Leaves (RWCL)  ChlorophyllA663  Chlorophyllb649  \\\n",
       "0                                    732.0              1.4              3.1   \n",
       "1                                    674.0              7.1              2.2   \n",
       "2                                    677.0              1.8              1.3   \n",
       "3                                    745.0              1.1              3.0   \n",
       "4                                    725.0              7.5              2.1   \n",
       "\n",
       "   Protein Percentage (PPE)  Weight of 300 Seeds (W3S)  Leaf Area Index (LAI)  \\\n",
       "0                      33.2                       33.6                   0.08   \n",
       "1                      38.5                       34.4                   0.09   \n",
       "2                      33.6                       35.2                   0.07   \n",
       "3                      33.5                       52.3                   0.09   \n",
       "4                      39.6                       31.2                   0.10   \n",
       "\n",
       "   Number of Seeds per Pod (NSP)  Protein Content (PCO)  \\\n",
       "0                           1.86                   0.82   \n",
       "1                           1.87                   0.13   \n",
       "2                           2.04                   0.15   \n",
       "3                           2.20                   0.14   \n",
       "4                           1.88                   0.60   \n",
       "\n",
       "   Seed Yield per Unit Area (SYUA)  \n",
       "0                      133943600.0  \n",
       "1                       12613100.0  \n",
       "2                       88626100.0  \n",
       "3                      157577800.0  \n",
       "4                       72960400.0  "
      ]
     },
     "execution_count": 24,
     "metadata": {},
     "output_type": "execute_result"
    }
   ],
   "source": [
    "df.head()"
   ]
  },
  {
   "cell_type": "code",
   "execution_count": 25,
   "id": "934d847c",
   "metadata": {},
   "outputs": [
    {
     "data": {
      "text/plain": [
       "Index(['Salicylic Acid', 'Water Stress', 'Genotypes', 'Number of Pods (NP)',\n",
       "       'Biological Weight (BW)', 'Sugars (Su)',\n",
       "       'Relative Water Content in Leaves (RWCL)', 'ChlorophyllA663',\n",
       "       'Chlorophyllb649', 'Protein Percentage (PPE)',\n",
       "       'Weight of 300 Seeds (W3S)', 'Leaf Area Index (LAI)',\n",
       "       'Number of Seeds per Pod (NSP)', 'Protein Content (PCO)',\n",
       "       'Seed Yield per Unit Area (SYUA)'],\n",
       "      dtype='object')"
      ]
     },
     "execution_count": 25,
     "metadata": {},
     "output_type": "execute_result"
    }
   ],
   "source": [
    "# copy df in df1\n",
    "df1=df.copy()\n",
    "# df1 columns \n",
    "df1.columns"
   ]
  },
  {
   "cell_type": "code",
   "execution_count": 26,
   "id": "8d24d5da",
   "metadata": {},
   "outputs": [],
   "source": [
    "# Categoric and numeric columns \n",
    "df1_cat_cols = ['Salicylic Acid', 'Water Stress', 'Genotypes']\n",
    "df1_num_cols = df1.drop(['Salicylic Acid', 'Water Stress', 'Genotypes'], axis=1).columns\n"
   ]
  },
  {
   "cell_type": "code",
   "execution_count": 27,
   "id": "664331b9",
   "metadata": {},
   "outputs": [],
   "source": [
    "# Categoricals labels encoding\n",
    "df1=pd.get_dummies(df1, columns=df1_cat_cols, drop_first=True, dtype='int')\n"
   ]
  },
  {
   "cell_type": "code",
   "execution_count": 28,
   "id": "bb321bc2",
   "metadata": {},
   "outputs": [
    {
     "data": {
      "text/plain": [
       "Index(['Number of Pods (NP)', 'Biological Weight (BW)', 'Sugars (Su)',\n",
       "       'Relative Water Content in Leaves (RWCL)', 'ChlorophyllA663',\n",
       "       'Chlorophyllb649', 'Protein Percentage (PPE)',\n",
       "       'Weight of 300 Seeds (W3S)', 'Leaf Area Index (LAI)',\n",
       "       'Number of Seeds per Pod (NSP)', 'Protein Content (PCO)',\n",
       "       'Salicylic Acid_C1', 'Salicylic Acid_C2', 'Water Stress_S1',\n",
       "       'Water Stress_S2', 'Water Stress_S3', 'Genotypes_G1', 'Genotypes_G2',\n",
       "       'Genotypes_G3', 'Genotypes_G4', 'Genotypes_G5', 'Genotypes_G6'],\n",
       "      dtype='object')"
      ]
     },
     "execution_count": 28,
     "metadata": {},
     "output_type": "execute_result"
    }
   ],
   "source": [
    "# Features and target \n",
    "X = df1.drop('Seed Yield per Unit Area (SYUA)', axis=1)\n",
    "y = df1['Seed Yield per Unit Area (SYUA)']\n",
    "X.columns"
   ]
  },
  {
   "cell_type": "code",
   "execution_count": 29,
   "id": "3259e830",
   "metadata": {},
   "outputs": [],
   "source": [
    "x_cat_cols = ['Salicylic Acid_C1', 'Salicylic Acid_C2', 'Water Stress_S1','Water Stress_S2', 'Water Stress_S3', \n",
    "                  'Genotypes_G1', 'Genotypes_G2','Genotypes_G3', 'Genotypes_G4', 'Genotypes_G5', 'Genotypes_G6']"
   ]
  },
  {
   "cell_type": "code",
   "execution_count": 30,
   "id": "8720a3c4",
   "metadata": {},
   "outputs": [],
   "source": [
    "from sklearn.preprocessing import StandardScaler\n",
    "\n",
    "# Normalisation function \n",
    "def scale(X):\n",
    "    X_cat = X[x_cat_cols]\n",
    "    X_num = X.drop(x_cat_cols, axis=1)\n",
    "\n",
    "    X_num_id = X_num.index\n",
    "    X_num_col = X_num.columns\n",
    "\n",
    "    # Standardisation of numerical features\n",
    "    X_tmp = StandardScaler().fit_transform(X_num)  # np array\n",
    "    X_tmp = pd.DataFrame(X_tmp, index= X_num_id, columns= X_num_col)  # conversion to dataframe\n",
    "\n",
    "    X_scaled = pd.concat([X_tmp, X_cat], axis= 1)  # Normalisation\n",
    "\n",
    "    return X_scaled"
   ]
  },
  {
   "cell_type": "code",
   "execution_count": 31,
   "id": "781f42a6",
   "metadata": {},
   "outputs": [
    {
     "name": "stdout",
     "output_type": "stream",
     "text": [
      "Training set X shape : (44360, 22) \t y shape : (44360,)\n",
      "Testing set X shape : (11090, 22) \t y shape (11090,)\n"
     ]
    }
   ],
   "source": [
    "# Data spliting\n",
    "from sklearn.model_selection import train_test_split\n",
    "X_train, X_test, y_train, y_test = train_test_split(X, y, test_size=0.2, random_state=1234)\n",
    "print(f'Training set X shape : {X_train.shape} \\t y shape : {y_train.shape}')\n",
    "print(f'Testing set X shape : {X_test.shape} \\t y shape {y_test.shape}')\n",
    "\n"
   ]
  },
  {
   "cell_type": "code",
   "execution_count": 32,
   "id": "0bf72849",
   "metadata": {},
   "outputs": [],
   "source": [
    "# Data scaling \n",
    "X_train_scaled = scale(X_train)\n",
    "X_test_scaled = scale(X_test)"
   ]
  },
  {
   "cell_type": "code",
   "execution_count": 33,
   "id": "abfdd05d",
   "metadata": {},
   "outputs": [],
   "source": [
    "# Importing necessary libraries for model training\n",
    "from sklearn.linear_model import LinearRegression, Ridge, Lasso\n",
    "from sklearn.ensemble import RandomForestRegressor, GradientBoostingRegressor, AdaBoostRegressor\n",
    "from sklearn.neighbors import KNeighborsRegressor\n",
    "from sklearn.tree import DecisionTreeRegressor\n",
    "\n",
    "# Importing necessary libraries for model evaluation\n",
    "from sklearn.metrics import mean_squared_error, r2_score, mean_absolute_error\n",
    "\n",
    "# Evaluted function and return r2 score\n",
    "def model_evaluation(model, xtrain, xtest):\n",
    "    \"\"\"_summary_\n",
    "\n",
    "    Args:\n",
    "        model (_estimator_): \n",
    "        X_train (_data_): \n",
    "        y_train (_type_data_): \n",
    "    return :\n",
    "        r2 train score \n",
    "        r2 test score\n",
    "    \"\"\"\n",
    "    # Nom du model\n",
    "    print(model)\n",
    "    # Mean squard error \n",
    "    print('--------------------------------------------------------------------')\n",
    "    print(f'MSE of Train set : {mean_squared_error(y_train, model.predict(xtrain))}')\n",
    "    print(f'MSE of test set : {mean_squared_error(y_test,model.predict(xtest))}')\n",
    "\n",
    "    # Mean absolute error\n",
    "    print('--------------------------------------------------------------------')\n",
    "    print(f'MAE of Train set : {mean_absolute_error(y_train, model.predict(xtrain))}')\n",
    "    print(f'MAE of test set : {mean_absolute_error(y_test,model.predict(xtest))}')\n",
    "\n",
    "    # R^2 score\n",
    "    print('--------------------------------------------------------------------')\n",
    "    print(f'R^2 of Train set : {r2_score(y_train, model.predict(xtrain)):.4f}')\n",
    "    print(f'R^2 of test set : {r2_score(y_test,model.predict(xtest)):.4f}')\n",
    "\n",
    "# Metrics score function \n",
    "def metrics_score(model, X_train, X_test):\n",
    "    # scores calcul arround with 4 digits\n",
    "    r2_train = round(r2_score(y_train, model.predict(X_train)), 5)\n",
    "    r2_test = round(r2_score(y_test, model.predict(X_test)), 5)\n",
    "\n",
    "    # save the scores in dict\n",
    "    resume = {\n",
    "        'Model' : model, 'r2 train score ' : r2_train, 'r2 test score' :r2_test\n",
    "    }\n",
    "    return resume\n"
   ]
  },
  {
   "cell_type": "code",
   "execution_count": 34,
   "id": "414b5ba1",
   "metadata": {},
   "outputs": [],
   "source": [
    "from sklearn.model_selection import learning_curve\n",
    "\n",
    "# Learning curve fonction plot\n",
    "def curve(model, X_train, y_train):\n",
    "    # learning curve \n",
    "    N, train_score, test_score = learning_curve(model,X_train, y_train,train_sizes=np.linspace(0.1,1, 10),\n",
    "                                                cv=5, random_state=1234)\n",
    "    \n",
    "    # plot \n",
    "    plt.plot(N, train_score.mean(axis=1), label='Training')\n",
    "    plt.plot(N, test_score.mean(axis=1), label='Validation')\n",
    "    plt.xlabel('Training size ')\n",
    "    plt.title('Learning curve')\n",
    "    plt.legend()\n",
    "    plt.show()\n"
   ]
  },
  {
   "cell_type": "code",
   "execution_count": 35,
   "id": "824ccc67",
   "metadata": {},
   "outputs": [
    {
     "name": "stdout",
     "output_type": "stream",
     "text": [
      "RandomForestRegressor(random_state=1234)\n",
      "--------------------------------------------------------------------\n",
      "MSE of Train set : 3.089490332285345e-32\n",
      "MSE of test set : 3.099521145052505e-32\n",
      "--------------------------------------------------------------------\n",
      "MAE of Train set : 2.9292268440515854e-17\n",
      "MAE of test set : 2.9387373208179867e-17\n",
      "--------------------------------------------------------------------\n",
      "R^2 of Train set : 1.0000\n",
      "R^2 of test set : 1.0000\n",
      "\n",
      "\n",
      "DecisionTreeRegressor()\n",
      "--------------------------------------------------------------------\n",
      "MSE of Train set : 3.089490332285345e-32\n",
      "MSE of test set : 3.099521145052505e-32\n",
      "--------------------------------------------------------------------\n",
      "MAE of Train set : 2.9292268440515854e-17\n",
      "MAE of test set : 2.9387373208179867e-17\n",
      "--------------------------------------------------------------------\n",
      "R^2 of Train set : 1.0000\n",
      "R^2 of test set : 1.0000\n",
      "\n",
      "\n",
      "GradientBoostingRegressor()\n",
      "--------------------------------------------------------------------\n",
      "MSE of Train set : 6091799191977.656\n",
      "MSE of test set : 6181186102076.674\n",
      "--------------------------------------------------------------------\n",
      "MAE of Train set : 1899740.3459589444\n",
      "MAE of test set : 1912004.5128785304\n",
      "--------------------------------------------------------------------\n",
      "R^2 of Train set : 0.9975\n",
      "R^2 of test set : 0.9974\n",
      "\n",
      "\n",
      "AdaBoostRegressor()\n",
      "--------------------------------------------------------------------\n",
      "MSE of Train set : 244684424659142.88\n",
      "MSE of test set : 246023293947485.53\n",
      "--------------------------------------------------------------------\n",
      "MAE of Train set : 13703332.93461463\n",
      "MAE of test set : 13742511.144263994\n",
      "--------------------------------------------------------------------\n",
      "R^2 of Train set : 0.8981\n",
      "R^2 of test set : 0.8971\n",
      "\n",
      "\n",
      "LinearRegression()\n",
      "--------------------------------------------------------------------\n",
      "MSE of Train set : 584929298017896.8\n",
      "MSE of test set : 594604877947940.2\n",
      "--------------------------------------------------------------------\n",
      "MAE of Train set : 18655396.940433424\n",
      "MAE of test set : 18863201.422160055\n",
      "--------------------------------------------------------------------\n",
      "R^2 of Train set : 0.7564\n",
      "R^2 of test set : 0.7513\n",
      "\n",
      "\n",
      "Lasso(alpha=0.1)\n",
      "--------------------------------------------------------------------\n",
      "MSE of Train set : 584929298025045.0\n",
      "MSE of test set : 594604838321814.1\n",
      "--------------------------------------------------------------------\n",
      "MAE of Train set : 18655404.647021867\n",
      "MAE of test set : 18863205.216793116\n",
      "--------------------------------------------------------------------\n",
      "R^2 of Train set : 0.7564\n",
      "R^2 of test set : 0.7513\n",
      "\n",
      "\n",
      "Ridge()\n",
      "--------------------------------------------------------------------\n",
      "MSE of Train set : 584931784763351.8\n",
      "MSE of test set : 594589063783768.0\n",
      "--------------------------------------------------------------------\n",
      "MAE of Train set : 18660361.7482021\n",
      "MAE of test set : 18865866.533726763\n",
      "--------------------------------------------------------------------\n",
      "R^2 of Train set : 0.7564\n",
      "R^2 of test set : 0.7513\n",
      "\n",
      "\n",
      "KNeighborsRegressor()\n",
      "--------------------------------------------------------------------\n"
     ]
    },
    {
     "name": "stderr",
     "output_type": "stream",
     "text": [
      "  File \"c:\\Users\\soule\\anaconda3\\Lib\\site-packages\\joblib\\externals\\loky\\backend\\context.py\", line 257, in _count_physical_cores\n",
      "    cpu_info = subprocess.run(\n",
      "               ^^^^^^^^^^^^^^^\n",
      "  File \"c:\\Users\\soule\\anaconda3\\Lib\\subprocess.py\", line 548, in run\n",
      "    with Popen(*popenargs, **kwargs) as process:\n",
      "         ^^^^^^^^^^^^^^^^^^^^^^^^^^^\n",
      "  File \"c:\\Users\\soule\\anaconda3\\Lib\\subprocess.py\", line 1026, in __init__\n",
      "    self._execute_child(args, executable, preexec_fn, close_fds,\n",
      "  File \"c:\\Users\\soule\\anaconda3\\Lib\\subprocess.py\", line 1538, in _execute_child\n",
      "    hp, ht, pid, tid = _winapi.CreateProcess(executable, args,\n",
      "                       ^^^^^^^^^^^^^^^^^^^^^^^^^^^^^^^^^^^^^^^\n"
     ]
    },
    {
     "name": "stdout",
     "output_type": "stream",
     "text": [
      "MSE of Train set : 8.558144964779349e-35\n",
      "MSE of test set : 8.585931149729932e-35\n",
      "--------------------------------------------------------------------\n",
      "MAE of Train set : 1.5416983389745185e-18\n",
      "MAE of test set : 1.5467038530620982e-18\n",
      "--------------------------------------------------------------------\n",
      "R^2 of Train set : 1.0000\n",
      "R^2 of test set : 1.0000\n",
      "\n",
      "\n"
     ]
    }
   ],
   "source": [
    "# Models fiting \n",
    "models_1 = [RandomForestRegressor(random_state=1234), DecisionTreeRegressor(), GradientBoostingRegressor(), \n",
    "            AdaBoostRegressor()]\n",
    "models_2 = [LinearRegression(), Lasso(alpha=0.1), Ridge(), KNeighborsRegressor()]\n",
    "\n",
    "scores =[]\n",
    "# This models do not use scaled data\n",
    "for md in models_1 :\n",
    "    # Model fiting\n",
    "    md.fit(X_train, y_train)\n",
    "    # Metrics Displaying\n",
    "    model_evaluation(md, X_train,X_test)\n",
    "    # scores saving\n",
    "    tmp1= metrics_score(md, X_train, X_test)\n",
    "    scores.append(tmp1)\n",
    "    print('\\n')\n",
    "\n",
    "# This models use scaled \n",
    "for md in models_2:\n",
    "    # Model fiting\n",
    "    md.fit(X_train_scaled, y_train)\n",
    "    # Metrics displaying\n",
    "    model_evaluation(md, X_train_scaled,X_test_scaled)\n",
    "    # scores saving\n",
    "    tmp2 = metrics_score(md, X_train_scaled, X_test_scaled)\n",
    "    scores.append(tmp2)\n",
    "    print('\\n')\n",
    "\n"
   ]
  },
  {
   "cell_type": "code",
   "execution_count": 36,
   "id": "2fc30bb6",
   "metadata": {},
   "outputs": [
    {
     "data": {
      "application/vnd.microsoft.datawrangler.viewer.v0+json": {
       "columns": [
        {
         "name": "index",
         "rawType": "int64",
         "type": "integer"
        },
        {
         "name": "Model",
         "rawType": "object",
         "type": "unknown"
        },
        {
         "name": "r2 train score ",
         "rawType": "float64",
         "type": "float"
        },
        {
         "name": "r2 test score",
         "rawType": "float64",
         "type": "float"
        }
       ],
       "ref": "768afb7f-4188-456c-8bb6-b72e38544963",
       "rows": [
        [
         "0",
         "RandomForestRegressor(random_state=1234)",
         "1.0",
         "1.0"
        ],
        [
         "1",
         "DecisionTreeRegressor()",
         "1.0",
         "1.0"
        ],
        [
         "2",
         "GradientBoostingRegressor()",
         "0.99746",
         "0.99741"
        ],
        [
         "3",
         "AdaBoostRegressor()",
         "0.89812",
         "0.89711"
        ],
        [
         "4",
         "LinearRegression()",
         "0.75644",
         "0.75133"
        ],
        [
         "5",
         "Lasso(alpha=0.1)",
         "0.75644",
         "0.75133"
        ],
        [
         "6",
         "Ridge()",
         "0.75644",
         "0.75133"
        ],
        [
         "7",
         "KNeighborsRegressor()",
         "1.0",
         "1.0"
        ]
       ],
       "shape": {
        "columns": 3,
        "rows": 8
       }
      },
      "text/html": [
       "<div>\n",
       "<style scoped>\n",
       "    .dataframe tbody tr th:only-of-type {\n",
       "        vertical-align: middle;\n",
       "    }\n",
       "\n",
       "    .dataframe tbody tr th {\n",
       "        vertical-align: top;\n",
       "    }\n",
       "\n",
       "    .dataframe thead th {\n",
       "        text-align: right;\n",
       "    }\n",
       "</style>\n",
       "<table border=\"1\" class=\"dataframe\">\n",
       "  <thead>\n",
       "    <tr style=\"text-align: right;\">\n",
       "      <th></th>\n",
       "      <th>Model</th>\n",
       "      <th>r2 train score</th>\n",
       "      <th>r2 test score</th>\n",
       "    </tr>\n",
       "  </thead>\n",
       "  <tbody>\n",
       "    <tr>\n",
       "      <th>0</th>\n",
       "      <td>(DecisionTreeRegressor(max_features=1.0, rando...</td>\n",
       "      <td>1.00000</td>\n",
       "      <td>1.00000</td>\n",
       "    </tr>\n",
       "    <tr>\n",
       "      <th>1</th>\n",
       "      <td>DecisionTreeRegressor()</td>\n",
       "      <td>1.00000</td>\n",
       "      <td>1.00000</td>\n",
       "    </tr>\n",
       "    <tr>\n",
       "      <th>2</th>\n",
       "      <td>([DecisionTreeRegressor(criterion='friedman_ms...</td>\n",
       "      <td>0.99746</td>\n",
       "      <td>0.99741</td>\n",
       "    </tr>\n",
       "    <tr>\n",
       "      <th>3</th>\n",
       "      <td>(DecisionTreeRegressor(max_depth=3, random_sta...</td>\n",
       "      <td>0.89812</td>\n",
       "      <td>0.89711</td>\n",
       "    </tr>\n",
       "    <tr>\n",
       "      <th>4</th>\n",
       "      <td>LinearRegression()</td>\n",
       "      <td>0.75644</td>\n",
       "      <td>0.75133</td>\n",
       "    </tr>\n",
       "    <tr>\n",
       "      <th>5</th>\n",
       "      <td>Lasso(alpha=0.1)</td>\n",
       "      <td>0.75644</td>\n",
       "      <td>0.75133</td>\n",
       "    </tr>\n",
       "    <tr>\n",
       "      <th>6</th>\n",
       "      <td>Ridge()</td>\n",
       "      <td>0.75644</td>\n",
       "      <td>0.75133</td>\n",
       "    </tr>\n",
       "    <tr>\n",
       "      <th>7</th>\n",
       "      <td>KNeighborsRegressor()</td>\n",
       "      <td>1.00000</td>\n",
       "      <td>1.00000</td>\n",
       "    </tr>\n",
       "  </tbody>\n",
       "</table>\n",
       "</div>"
      ],
      "text/plain": [
       "                                               Model  r2 train score   \\\n",
       "0  (DecisionTreeRegressor(max_features=1.0, rando...          1.00000   \n",
       "1                            DecisionTreeRegressor()          1.00000   \n",
       "2  ([DecisionTreeRegressor(criterion='friedman_ms...          0.99746   \n",
       "3  (DecisionTreeRegressor(max_depth=3, random_sta...          0.89812   \n",
       "4                                 LinearRegression()          0.75644   \n",
       "5                                   Lasso(alpha=0.1)          0.75644   \n",
       "6                                            Ridge()          0.75644   \n",
       "7                              KNeighborsRegressor()          1.00000   \n",
       "\n",
       "   r2 test score  \n",
       "0        1.00000  \n",
       "1        1.00000  \n",
       "2        0.99741  \n",
       "3        0.89711  \n",
       "4        0.75133  \n",
       "5        0.75133  \n",
       "6        0.75133  \n",
       "7        1.00000  "
      ]
     },
     "metadata": {},
     "output_type": "display_data"
    }
   ],
   "source": [
    "\n",
    "# converting scores to DataFrame\n",
    "scores=pd.DataFrame(scores)\n",
    "\n",
    "# diplay scores\n",
    "display(scores)"
   ]
  },
  {
   "cell_type": "code",
   "execution_count": 37,
   "id": "43e5ece6",
   "metadata": {},
   "outputs": [
    {
     "data": {
      "application/vnd.microsoft.datawrangler.viewer.v0+json": {
       "columns": [
        {
         "name": "index",
         "rawType": "int64",
         "type": "integer"
        },
        {
         "name": "Model",
         "rawType": "object",
         "type": "unknown"
        },
        {
         "name": "r2 train score ",
         "rawType": "float64",
         "type": "float"
        },
        {
         "name": "r2 test score",
         "rawType": "float64",
         "type": "float"
        }
       ],
       "ref": "c7fe5f9d-401f-4d29-98d0-ae14d150740c",
       "rows": [
        [
         "0",
         "RandomForestRegressor(random_state=1234)",
         "1.0",
         "1.0"
        ],
        [
         "1",
         "DecisionTreeRegressor()",
         "1.0",
         "1.0"
        ],
        [
         "7",
         "KNeighborsRegressor()",
         "1.0",
         "1.0"
        ],
        [
         "2",
         "GradientBoostingRegressor()",
         "0.99746",
         "0.99741"
        ],
        [
         "3",
         "AdaBoostRegressor()",
         "0.89812",
         "0.89711"
        ],
        [
         "4",
         "LinearRegression()",
         "0.75644",
         "0.75133"
        ],
        [
         "5",
         "Lasso(alpha=0.1)",
         "0.75644",
         "0.75133"
        ],
        [
         "6",
         "Ridge()",
         "0.75644",
         "0.75133"
        ]
       ],
       "shape": {
        "columns": 3,
        "rows": 8
       }
      },
      "text/html": [
       "<div>\n",
       "<style scoped>\n",
       "    .dataframe tbody tr th:only-of-type {\n",
       "        vertical-align: middle;\n",
       "    }\n",
       "\n",
       "    .dataframe tbody tr th {\n",
       "        vertical-align: top;\n",
       "    }\n",
       "\n",
       "    .dataframe thead th {\n",
       "        text-align: right;\n",
       "    }\n",
       "</style>\n",
       "<table border=\"1\" class=\"dataframe\">\n",
       "  <thead>\n",
       "    <tr style=\"text-align: right;\">\n",
       "      <th></th>\n",
       "      <th>Model</th>\n",
       "      <th>r2 train score</th>\n",
       "      <th>r2 test score</th>\n",
       "    </tr>\n",
       "  </thead>\n",
       "  <tbody>\n",
       "    <tr>\n",
       "      <th>0</th>\n",
       "      <td>(DecisionTreeRegressor(max_features=1.0, rando...</td>\n",
       "      <td>1.00000</td>\n",
       "      <td>1.00000</td>\n",
       "    </tr>\n",
       "    <tr>\n",
       "      <th>1</th>\n",
       "      <td>DecisionTreeRegressor()</td>\n",
       "      <td>1.00000</td>\n",
       "      <td>1.00000</td>\n",
       "    </tr>\n",
       "    <tr>\n",
       "      <th>7</th>\n",
       "      <td>KNeighborsRegressor()</td>\n",
       "      <td>1.00000</td>\n",
       "      <td>1.00000</td>\n",
       "    </tr>\n",
       "    <tr>\n",
       "      <th>2</th>\n",
       "      <td>([DecisionTreeRegressor(criterion='friedman_ms...</td>\n",
       "      <td>0.99746</td>\n",
       "      <td>0.99741</td>\n",
       "    </tr>\n",
       "    <tr>\n",
       "      <th>3</th>\n",
       "      <td>(DecisionTreeRegressor(max_depth=3, random_sta...</td>\n",
       "      <td>0.89812</td>\n",
       "      <td>0.89711</td>\n",
       "    </tr>\n",
       "    <tr>\n",
       "      <th>4</th>\n",
       "      <td>LinearRegression()</td>\n",
       "      <td>0.75644</td>\n",
       "      <td>0.75133</td>\n",
       "    </tr>\n",
       "    <tr>\n",
       "      <th>5</th>\n",
       "      <td>Lasso(alpha=0.1)</td>\n",
       "      <td>0.75644</td>\n",
       "      <td>0.75133</td>\n",
       "    </tr>\n",
       "    <tr>\n",
       "      <th>6</th>\n",
       "      <td>Ridge()</td>\n",
       "      <td>0.75644</td>\n",
       "      <td>0.75133</td>\n",
       "    </tr>\n",
       "  </tbody>\n",
       "</table>\n",
       "</div>"
      ],
      "text/plain": [
       "                                               Model  r2 train score   \\\n",
       "0  (DecisionTreeRegressor(max_features=1.0, rando...          1.00000   \n",
       "1                            DecisionTreeRegressor()          1.00000   \n",
       "7                              KNeighborsRegressor()          1.00000   \n",
       "2  ([DecisionTreeRegressor(criterion='friedman_ms...          0.99746   \n",
       "3  (DecisionTreeRegressor(max_depth=3, random_sta...          0.89812   \n",
       "4                                 LinearRegression()          0.75644   \n",
       "5                                   Lasso(alpha=0.1)          0.75644   \n",
       "6                                            Ridge()          0.75644   \n",
       "\n",
       "   r2 test score  \n",
       "0        1.00000  \n",
       "1        1.00000  \n",
       "7        1.00000  \n",
       "2        0.99741  \n",
       "3        0.89711  \n",
       "4        0.75133  \n",
       "5        0.75133  \n",
       "6        0.75133  "
      ]
     },
     "execution_count": 37,
     "metadata": {},
     "output_type": "execute_result"
    }
   ],
   "source": [
    "# diplay scores sorted by r2 test score\n",
    "scores.sort_values(by='r2 test score', ascending=False)"
   ]
  },
  {
   "cell_type": "code",
   "execution_count": 38,
   "id": "9fcbc7a4",
   "metadata": {},
   "outputs": [
    {
     "data": {
      "application/vnd.microsoft.datawrangler.viewer.v0+json": {
       "columns": [
        {
         "name": "index",
         "rawType": "int64",
         "type": "integer"
        },
        {
         "name": "Features",
         "rawType": "object",
         "type": "string"
        },
        {
         "name": "Importance",
         "rawType": "float64",
         "type": "float"
        }
       ],
       "ref": "e1ac1246-2203-4fa5-8db6-28a177d92583",
       "rows": [
        [
         "1",
         "Biological Weight (BW)",
         "0.3945853272227078"
        ],
        [
         "7",
         "Weight of 300 Seeds (W3S)",
         "0.12774254513280153"
        ],
        [
         "0",
         "Number of Pods (NP)",
         "0.12617218164461622"
        ],
        [
         "4",
         "ChlorophyllA663",
         "0.07699146770154436"
        ],
        [
         "9",
         "Number of Seeds per Pod (NSP)",
         "0.05512878548100459"
        ],
        [
         "2",
         "Sugars (Su)",
         "0.04513584261639858"
        ],
        [
         "5",
         "Chlorophyllb649",
         "0.036723582160789955"
        ],
        [
         "11",
         "Salicylic Acid_C1",
         "0.029179561981442736"
        ],
        [
         "3",
         "Relative Water Content in Leaves (RWCL)",
         "0.019427400169349726"
        ],
        [
         "15",
         "Water Stress_S3",
         "0.018642662420763883"
        ],
        [
         "20",
         "Genotypes_G5",
         "0.015857687099061775"
        ],
        [
         "13",
         "Water Stress_S1",
         "0.013066669113903563"
        ],
        [
         "21",
         "Genotypes_G6",
         "0.011753701389981459"
        ],
        [
         "10",
         "Protein Content (PCO)",
         "0.006555754594346917"
        ],
        [
         "6",
         "Protein Percentage (PPE)",
         "0.006161545257887459"
        ],
        [
         "12",
         "Salicylic Acid_C2",
         "0.005276367787655967"
        ],
        [
         "16",
         "Genotypes_G1",
         "0.005033284463243809"
        ],
        [
         "19",
         "Genotypes_G4",
         "0.003610738962089922"
        ],
        [
         "8",
         "Leaf Area Index (LAI)",
         "0.0014702722712041743"
        ],
        [
         "17",
         "Genotypes_G2",
         "0.0010118955180727655"
        ],
        [
         "18",
         "Genotypes_G3",
         "0.00047272701113285916"
        ],
        [
         "14",
         "Water Stress_S2",
         "0.0"
        ]
       ],
       "shape": {
        "columns": 2,
        "rows": 22
       }
      },
      "text/html": [
       "<div>\n",
       "<style scoped>\n",
       "    .dataframe tbody tr th:only-of-type {\n",
       "        vertical-align: middle;\n",
       "    }\n",
       "\n",
       "    .dataframe tbody tr th {\n",
       "        vertical-align: top;\n",
       "    }\n",
       "\n",
       "    .dataframe thead th {\n",
       "        text-align: right;\n",
       "    }\n",
       "</style>\n",
       "<table border=\"1\" class=\"dataframe\">\n",
       "  <thead>\n",
       "    <tr style=\"text-align: right;\">\n",
       "      <th></th>\n",
       "      <th>Features</th>\n",
       "      <th>Importance</th>\n",
       "    </tr>\n",
       "  </thead>\n",
       "  <tbody>\n",
       "    <tr>\n",
       "      <th>1</th>\n",
       "      <td>Biological Weight (BW)</td>\n",
       "      <td>0.394585</td>\n",
       "    </tr>\n",
       "    <tr>\n",
       "      <th>7</th>\n",
       "      <td>Weight of 300 Seeds (W3S)</td>\n",
       "      <td>0.127743</td>\n",
       "    </tr>\n",
       "    <tr>\n",
       "      <th>0</th>\n",
       "      <td>Number of Pods (NP)</td>\n",
       "      <td>0.126172</td>\n",
       "    </tr>\n",
       "    <tr>\n",
       "      <th>4</th>\n",
       "      <td>ChlorophyllA663</td>\n",
       "      <td>0.076991</td>\n",
       "    </tr>\n",
       "    <tr>\n",
       "      <th>9</th>\n",
       "      <td>Number of Seeds per Pod (NSP)</td>\n",
       "      <td>0.055129</td>\n",
       "    </tr>\n",
       "    <tr>\n",
       "      <th>2</th>\n",
       "      <td>Sugars (Su)</td>\n",
       "      <td>0.045136</td>\n",
       "    </tr>\n",
       "    <tr>\n",
       "      <th>5</th>\n",
       "      <td>Chlorophyllb649</td>\n",
       "      <td>0.036724</td>\n",
       "    </tr>\n",
       "    <tr>\n",
       "      <th>11</th>\n",
       "      <td>Salicylic Acid_C1</td>\n",
       "      <td>0.029180</td>\n",
       "    </tr>\n",
       "    <tr>\n",
       "      <th>3</th>\n",
       "      <td>Relative Water Content in Leaves (RWCL)</td>\n",
       "      <td>0.019427</td>\n",
       "    </tr>\n",
       "    <tr>\n",
       "      <th>15</th>\n",
       "      <td>Water Stress_S3</td>\n",
       "      <td>0.018643</td>\n",
       "    </tr>\n",
       "    <tr>\n",
       "      <th>20</th>\n",
       "      <td>Genotypes_G5</td>\n",
       "      <td>0.015858</td>\n",
       "    </tr>\n",
       "    <tr>\n",
       "      <th>13</th>\n",
       "      <td>Water Stress_S1</td>\n",
       "      <td>0.013067</td>\n",
       "    </tr>\n",
       "    <tr>\n",
       "      <th>21</th>\n",
       "      <td>Genotypes_G6</td>\n",
       "      <td>0.011754</td>\n",
       "    </tr>\n",
       "    <tr>\n",
       "      <th>10</th>\n",
       "      <td>Protein Content (PCO)</td>\n",
       "      <td>0.006556</td>\n",
       "    </tr>\n",
       "    <tr>\n",
       "      <th>6</th>\n",
       "      <td>Protein Percentage (PPE)</td>\n",
       "      <td>0.006162</td>\n",
       "    </tr>\n",
       "    <tr>\n",
       "      <th>12</th>\n",
       "      <td>Salicylic Acid_C2</td>\n",
       "      <td>0.005276</td>\n",
       "    </tr>\n",
       "    <tr>\n",
       "      <th>16</th>\n",
       "      <td>Genotypes_G1</td>\n",
       "      <td>0.005033</td>\n",
       "    </tr>\n",
       "    <tr>\n",
       "      <th>19</th>\n",
       "      <td>Genotypes_G4</td>\n",
       "      <td>0.003611</td>\n",
       "    </tr>\n",
       "    <tr>\n",
       "      <th>8</th>\n",
       "      <td>Leaf Area Index (LAI)</td>\n",
       "      <td>0.001470</td>\n",
       "    </tr>\n",
       "    <tr>\n",
       "      <th>17</th>\n",
       "      <td>Genotypes_G2</td>\n",
       "      <td>0.001012</td>\n",
       "    </tr>\n",
       "    <tr>\n",
       "      <th>18</th>\n",
       "      <td>Genotypes_G3</td>\n",
       "      <td>0.000473</td>\n",
       "    </tr>\n",
       "    <tr>\n",
       "      <th>14</th>\n",
       "      <td>Water Stress_S2</td>\n",
       "      <td>0.000000</td>\n",
       "    </tr>\n",
       "  </tbody>\n",
       "</table>\n",
       "</div>"
      ],
      "text/plain": [
       "                                   Features  Importance\n",
       "1                    Biological Weight (BW)    0.394585\n",
       "7                 Weight of 300 Seeds (W3S)    0.127743\n",
       "0                       Number of Pods (NP)    0.126172\n",
       "4                           ChlorophyllA663    0.076991\n",
       "9             Number of Seeds per Pod (NSP)    0.055129\n",
       "2                               Sugars (Su)    0.045136\n",
       "5                           Chlorophyllb649    0.036724\n",
       "11                        Salicylic Acid_C1    0.029180\n",
       "3   Relative Water Content in Leaves (RWCL)    0.019427\n",
       "15                          Water Stress_S3    0.018643\n",
       "20                             Genotypes_G5    0.015858\n",
       "13                          Water Stress_S1    0.013067\n",
       "21                             Genotypes_G6    0.011754\n",
       "10                    Protein Content (PCO)    0.006556\n",
       "6                  Protein Percentage (PPE)    0.006162\n",
       "12                        Salicylic Acid_C2    0.005276\n",
       "16                             Genotypes_G1    0.005033\n",
       "19                             Genotypes_G4    0.003611\n",
       "8                     Leaf Area Index (LAI)    0.001470\n",
       "17                             Genotypes_G2    0.001012\n",
       "18                             Genotypes_G3    0.000473\n",
       "14                          Water Stress_S2    0.000000"
      ]
     },
     "execution_count": 38,
     "metadata": {},
     "output_type": "execute_result"
    }
   ],
   "source": [
    "# Gradient fiting\n",
    "gb=GradientBoostingRegressor()\n",
    "gb.fit(X_train, y_train)\n",
    "\n",
    "# Featurs importance \n",
    "gb_Importance = pd.DataFrame({'Features' : X.columns, 'Importance' : gb.feature_importances_}).sort_values(by='Importance', ascending=False)\n",
    "gb_Importance"
   ]
  },
  {
   "cell_type": "code",
   "execution_count": 39,
   "id": "2b10ae41",
   "metadata": {},
   "outputs": [
    {
     "data": {
      "image/png": "[encoded data removed]",
      "text/plain": [
       "<Figure size 640x480 with 1 Axes>"
      ]
     },
     "metadata": {},
     "output_type": "display_data"
    }
   ],
   "source": [
    "# ploting features importance\n",
    "sns.barplot(x='Importance', y='Features', data=gb_Importance)\n",
    "plt.title('Features Importance with Gradient Boosting')\n",
    "plt.xlabel('Importances')\n",
    "plt.ylabel('Features')\n",
    "plt.show()"
   ]
  },
  {
   "cell_type": "code",
   "execution_count": 40,
   "id": "4f12c152",
   "metadata": {},
   "outputs": [
    {
     "data": {
      "text/plain": [
       "['GradientBoosting_model.pkl']"
      ]
     },
     "execution_count": 40,
     "metadata": {},
     "output_type": "execute_result"
    }
   ],
   "source": [
    "# Serealisation \n",
    "import joblib as jb\n",
    "jb.dump(gb, 'GradientBoosting_model.pkl')"
   ]
  },
  {
   "cell_type": "code",
   "execution_count": 41,
   "id": "8d0df55b",
   "metadata": {},
   "outputs": [
    {
     "data": {
      "text/html": [
       "<style>#sk-container-id-1 {\n",
       "  /* Definition of color scheme common for light and dark mode */\n",
       "  --sklearn-color-text: #000;\n",
       "  --sklearn-color-text-muted: #666;\n",
       "  --sklearn-color-line: gray;\n",
       "  /* Definition of color scheme for unfitted estimators */\n",
       "  --sklearn-color-unfitted-level-0: #fff5e6;\n",
       "  --sklearn-color-unfitted-level-1: #f6e4d2;\n",
       "  --sklearn-color-unfitted-level-2: #ffe0b3;\n",
       "  --sklearn-color-unfitted-level-3: chocolate;\n",
       "  /* Definition of color scheme for fitted estimators */\n",
       "  --sklearn-color-fitted-level-0: #f0f8ff;\n",
       "  --sklearn-color-fitted-level-1: #d4ebff;\n",
       "  --sklearn-color-fitted-level-2: #b3dbfd;\n",
       "  --sklearn-color-fitted-level-3: cornflowerblue;\n",
       "\n",
       "  /* Specific color for light theme */\n",
       "  --sklearn-color-text-on-default-background: var(--sg-text-color, var(--theme-code-foreground, var(--jp-content-font-color1, black)));\n",
       "  --sklearn-color-background: var(--sg-background-color, var(--theme-background, var(--jp-layout-color0, white)));\n",
       "  --sklearn-color-border-box: var(--sg-text-color, var(--theme-code-foreground, var(--jp-content-font-color1, black)));\n",
       "  --sklearn-color-icon: #696969;\n",
       "\n",
       "  @media (prefers-color-scheme: dark) {\n",
       "    /* Redefinition of color scheme for dark theme */\n",
       "    --sklearn-color-text-on-default-background: var(--sg-text-color, var(--theme-code-foreground, var(--jp-content-font-color1, white)));\n",
       "    --sklearn-color-background: var(--sg-background-color, var(--theme-background, var(--jp-layout-color0, #111)));\n",
       "    --sklearn-color-border-box: var(--sg-text-color, var(--theme-code-foreground, var(--jp-content-font-color1, white)));\n",
       "    --sklearn-color-icon: #878787;\n",
       "  }\n",
       "}\n",
       "\n",
       "#sk-container-id-1 {\n",
       "  color: var(--sklearn-color-text);\n",
       "}\n",
       "\n",
       "#sk-container-id-1 pre {\n",
       "  padding: 0;\n",
       "}\n",
       "\n",
       "#sk-container-id-1 input.sk-hidden--visually {\n",
       "  border: 0;\n",
       "  clip: rect(1px 1px 1px 1px);\n",
       "  clip: rect(1px, 1px, 1px, 1px);\n",
       "  height: 1px;\n",
       "  margin: -1px;\n",
       "  overflow: hidden;\n",
       "  padding: 0;\n",
       "  position: absolute;\n",
       "  width: 1px;\n",
       "}\n",
       "\n",
       "#sk-container-id-1 div.sk-dashed-wrapped {\n",
       "  border: 1px dashed var(--sklearn-color-line);\n",
       "  margin: 0 0.4em 0.5em 0.4em;\n",
       "  box-sizing: border-box;\n",
       "  padding-bottom: 0.4em;\n",
       "  background-color: var(--sklearn-color-background);\n",
       "}\n",
       "\n",
       "#sk-container-id-1 div.sk-container {\n",
       "  /* jupyter's `normalize.less` sets `[hidden] { display: none; }`\n",
       "     but bootstrap.min.css set `[hidden] { display: none !important; }`\n",
       "     so we also need the `!important` here to be able to override the\n",
       "     default hidden behavior on the sphinx rendered scikit-learn.org.\n",
       "     See: https://github.com/scikit-learn/scikit-learn/issues/21755 */\n",
       "  display: inline-block !important;\n",
       "  position: relative;\n",
       "}\n",
       "\n",
       "#sk-container-id-1 div.sk-text-repr-fallback {\n",
       "  display: none;\n",
       "}\n",
       "\n",
       "div.sk-parallel-item,\n",
       "div.sk-serial,\n",
       "div.sk-item {\n",
       "  /* draw centered vertical line to link estimators */\n",
       "  background-image: linear-gradient(var(--sklearn-color-text-on-default-background), var(--sklearn-color-text-on-default-background));\n",
       "  background-size: 2px 100%;\n",
       "  background-repeat: no-repeat;\n",
       "  background-position: center center;\n",
       "}\n",
       "\n",
       "/* Parallel-specific style estimator block */\n",
       "\n",
       "#sk-container-id-1 div.sk-parallel-item::after {\n",
       "  content: \"\";\n",
       "  width: 100%;\n",
       "  border-bottom: 2px solid var(--sklearn-color-text-on-default-background);\n",
       "  flex-grow: 1;\n",
       "}\n",
       "\n",
       "#sk-container-id-1 div.sk-parallel {\n",
       "  display: flex;\n",
       "  align-items: stretch;\n",
       "  justify-content: center;\n",
       "  background-color: var(--sklearn-color-background);\n",
       "  position: relative;\n",
       "}\n",
       "\n",
       "#sk-container-id-1 div.sk-parallel-item {\n",
       "  display: flex;\n",
       "  flex-direction: column;\n",
       "}\n",
       "\n",
       "#sk-container-id-1 div.sk-parallel-item:first-child::after {\n",
       "  align-self: flex-end;\n",
       "  width: 50%;\n",
       "}\n",
       "\n",
       "#sk-container-id-1 div.sk-parallel-item:last-child::after {\n",
       "  align-self: flex-start;\n",
       "  width: 50%;\n",
       "}\n",
       "\n",
       "#sk-container-id-1 div.sk-parallel-item:only-child::after {\n",
       "  width: 0;\n",
       "}\n",
       "\n",
       "/* Serial-specific style estimator block */\n",
       "\n",
       "#sk-container-id-1 div.sk-serial {\n",
       "  display: flex;\n",
       "  flex-direction: column;\n",
       "  align-items: center;\n",
       "  background-color: var(--sklearn-color-background);\n",
       "  padding-right: 1em;\n",
       "  padding-left: 1em;\n",
       "}\n",
       "\n",
       "\n",
       "/* Toggleable style: style used for estimator/Pipeline/ColumnTransformer box that is\n",
       "clickable and can be expanded/collapsed.\n",
       "- Pipeline and ColumnTransformer use this feature and define the default style\n",
       "- Estimators will overwrite some part of the style using the `sk-estimator` class\n",
       "*/\n",
       "\n",
       "/* Pipeline and ColumnTransformer style (default) */\n",
       "\n",
       "#sk-container-id-1 div.sk-toggleable {\n",
       "  /* Default theme specific background. It is overwritten whether we have a\n",
       "  specific estimator or a Pipeline/ColumnTransformer */\n",
       "  background-color: var(--sklearn-color-background);\n",
       "}\n",
       "\n",
       "/* Toggleable label */\n",
       "#sk-container-id-1 label.sk-toggleable__label {\n",
       "  cursor: pointer;\n",
       "  display: flex;\n",
       "  width: 100%;\n",
       "  margin-bottom: 0;\n",
       "  padding: 0.5em;\n",
       "  box-sizing: border-box;\n",
       "  text-align: center;\n",
       "  align-items: start;\n",
       "  justify-content: space-between;\n",
       "  gap: 0.5em;\n",
       "}\n",
       "\n",
       "#sk-container-id-1 label.sk-toggleable__label .caption {\n",
       "  font-size: 0.6rem;\n",
       "  font-weight: lighter;\n",
       "  color: var(--sklearn-color-text-muted);\n",
       "}\n",
       "\n",
       "#sk-container-id-1 label.sk-toggleable__label-arrow:before {\n",
       "  /* Arrow on the left of the label */\n",
       "  content: \"▸\";\n",
       "  float: left;\n",
       "  margin-right: 0.25em;\n",
       "  color: var(--sklearn-color-icon);\n",
       "}\n",
       "\n",
       "#sk-container-id-1 label.sk-toggleable__label-arrow:hover:before {\n",
       "  color: var(--sklearn-color-text);\n",
       "}\n",
       "\n",
       "/* Toggleable content - dropdown */\n",
       "\n",
       "#sk-container-id-1 div.sk-toggleable__content {\n",
       "  display: none;\n",
       "  text-align: left;\n",
       "  /* unfitted */\n",
       "  background-color: var(--sklearn-color-unfitted-level-0);\n",
       "}\n",
       "\n",
       "#sk-container-id-1 div.sk-toggleable__content.fitted {\n",
       "  /* fitted */\n",
       "  background-color: var(--sklearn-color-fitted-level-0);\n",
       "}\n",
       "\n",
       "#sk-container-id-1 div.sk-toggleable__content pre {\n",
       "  margin: 0.2em;\n",
       "  border-radius: 0.25em;\n",
       "  color: var(--sklearn-color-text);\n",
       "  /* unfitted */\n",
       "  background-color: var(--sklearn-color-unfitted-level-0);\n",
       "}\n",
       "\n",
       "#sk-container-id-1 div.sk-toggleable__content.fitted pre {\n",
       "  /* unfitted */\n",
       "  background-color: var(--sklearn-color-fitted-level-0);\n",
       "}\n",
       "\n",
       "#sk-container-id-1 input.sk-toggleable__control:checked~div.sk-toggleable__content {\n",
       "  /* Expand drop-down */\n",
       "  display: block;\n",
       "  width: 100%;\n",
       "  overflow: visible;\n",
       "}\n",
       "\n",
       "#sk-container-id-1 input.sk-toggleable__control:checked~label.sk-toggleable__label-arrow:before {\n",
       "  content: \"▾\";\n",
       "}\n",
       "\n",
       "/* Pipeline/ColumnTransformer-specific style */\n",
       "\n",
       "#sk-container-id-1 div.sk-label input.sk-toggleable__control:checked~label.sk-toggleable__label {\n",
       "  color: var(--sklearn-color-text);\n",
       "  background-color: var(--sklearn-color-unfitted-level-2);\n",
       "}\n",
       "\n",
       "#sk-container-id-1 div.sk-label.fitted input.sk-toggleable__control:checked~label.sk-toggleable__label {\n",
       "  background-color: var(--sklearn-color-fitted-level-2);\n",
       "}\n",
       "\n",
       "/* Estimator-specific style */\n",
       "\n",
       "/* Colorize estimator box */\n",
       "#sk-container-id-1 div.sk-estimator input.sk-toggleable__control:checked~label.sk-toggleable__label {\n",
       "  /* unfitted */\n",
       "  background-color: var(--sklearn-color-unfitted-level-2);\n",
       "}\n",
       "\n",
       "#sk-container-id-1 div.sk-estimator.fitted input.sk-toggleable__control:checked~label.sk-toggleable__label {\n",
       "  /* fitted */\n",
       "  background-color: var(--sklearn-color-fitted-level-2);\n",
       "}\n",
       "\n",
       "#sk-container-id-1 div.sk-label label.sk-toggleable__label,\n",
       "#sk-container-id-1 div.sk-label label {\n",
       "  /* The background is the default theme color */\n",
       "  color: var(--sklearn-color-text-on-default-background);\n",
       "}\n",
       "\n",
       "/* On hover, darken the color of the background */\n",
       "#sk-container-id-1 div.sk-label:hover label.sk-toggleable__label {\n",
       "  color: var(--sklearn-color-text);\n",
       "  background-color: var(--sklearn-color-unfitted-level-2);\n",
       "}\n",
       "\n",
       "/* Label box, darken color on hover, fitted */\n",
       "#sk-container-id-1 div.sk-label.fitted:hover label.sk-toggleable__label.fitted {\n",
       "  color: var(--sklearn-color-text);\n",
       "  background-color: var(--sklearn-color-fitted-level-2);\n",
       "}\n",
       "\n",
       "/* Estimator label */\n",
       "\n",
       "#sk-container-id-1 div.sk-label label {\n",
       "  font-family: monospace;\n",
       "  font-weight: bold;\n",
       "  display: inline-block;\n",
       "  line-height: 1.2em;\n",
       "}\n",
       "\n",
       "#sk-container-id-1 div.sk-label-container {\n",
       "  text-align: center;\n",
       "}\n",
       "\n",
       "/* Estimator-specific */\n",
       "#sk-container-id-1 div.sk-estimator {\n",
       "  font-family: monospace;\n",
       "  border: 1px dotted var(--sklearn-color-border-box);\n",
       "  border-radius: 0.25em;\n",
       "  box-sizing: border-box;\n",
       "  margin-bottom: 0.5em;\n",
       "  /* unfitted */\n",
       "  background-color: var(--sklearn-color-unfitted-level-0);\n",
       "}\n",
       "\n",
       "#sk-container-id-1 div.sk-estimator.fitted {\n",
       "  /* fitted */\n",
       "  background-color: var(--sklearn-color-fitted-level-0);\n",
       "}\n",
       "\n",
       "/* on hover */\n",
       "#sk-container-id-1 div.sk-estimator:hover {\n",
       "  /* unfitted */\n",
       "  background-color: var(--sklearn-color-unfitted-level-2);\n",
       "}\n",
       "\n",
       "#sk-container-id-1 div.sk-estimator.fitted:hover {\n",
       "  /* fitted */\n",
       "  background-color: var(--sklearn-color-fitted-level-2);\n",
       "}\n",
       "\n",
       "/* Specification for estimator info (e.g. \"i\" and \"?\") */\n",
       "\n",
       "/* Common style for \"i\" and \"?\" */\n",
       "\n",
       ".sk-estimator-doc-link,\n",
       "a:link.sk-estimator-doc-link,\n",
       "a:visited.sk-estimator-doc-link {\n",
       "  float: right;\n",
       "  font-size: smaller;\n",
       "  line-height: 1em;\n",
       "  font-family: monospace;\n",
       "  background-color: var(--sklearn-color-background);\n",
       "  border-radius: 1em;\n",
       "  height: 1em;\n",
       "  width: 1em;\n",
       "  text-decoration: none !important;\n",
       "  margin-left: 0.5em;\n",
       "  text-align: center;\n",
       "  /* unfitted */\n",
       "  border: var(--sklearn-color-unfitted-level-1) 1pt solid;\n",
       "  color: var(--sklearn-color-unfitted-level-1);\n",
       "}\n",
       "\n",
       ".sk-estimator-doc-link.fitted,\n",
       "a:link.sk-estimator-doc-link.fitted,\n",
       "a:visited.sk-estimator-doc-link.fitted {\n",
       "  /* fitted */\n",
       "  border: var(--sklearn-color-fitted-level-1) 1pt solid;\n",
       "  color: var(--sklearn-color-fitted-level-1);\n",
       "}\n",
       "\n",
       "/* On hover */\n",
       "div.sk-estimator:hover .sk-estimator-doc-link:hover,\n",
       ".sk-estimator-doc-link:hover,\n",
       "div.sk-label-container:hover .sk-estimator-doc-link:hover,\n",
       ".sk-estimator-doc-link:hover {\n",
       "  /* unfitted */\n",
       "  background-color: var(--sklearn-color-unfitted-level-3);\n",
       "  color: var(--sklearn-color-background);\n",
       "  text-decoration: none;\n",
       "}\n",
       "\n",
       "div.sk-estimator.fitted:hover .sk-estimator-doc-link.fitted:hover,\n",
       ".sk-estimator-doc-link.fitted:hover,\n",
       "div.sk-label-container:hover .sk-estimator-doc-link.fitted:hover,\n",
       ".sk-estimator-doc-link.fitted:hover {\n",
       "  /* fitted */\n",
       "  background-color: var(--sklearn-color-fitted-level-3);\n",
       "  color: var(--sklearn-color-background);\n",
       "  text-decoration: none;\n",
       "}\n",
       "\n",
       "/* Span, style for the box shown on hovering the info icon */\n",
       ".sk-estimator-doc-link span {\n",
       "  display: none;\n",
       "  z-index: 9999;\n",
       "  position: relative;\n",
       "  font-weight: normal;\n",
       "  right: .2ex;\n",
       "  padding: .5ex;\n",
       "  margin: .5ex;\n",
       "  width: min-content;\n",
       "  min-width: 20ex;\n",
       "  max-width: 50ex;\n",
       "  color: var(--sklearn-color-text);\n",
       "  box-shadow: 2pt 2pt 4pt #999;\n",
       "  /* unfitted */\n",
       "  background: var(--sklearn-color-unfitted-level-0);\n",
       "  border: .5pt solid var(--sklearn-color-unfitted-level-3);\n",
       "}\n",
       "\n",
       ".sk-estimator-doc-link.fitted span {\n",
       "  /* fitted */\n",
       "  background: var(--sklearn-color-fitted-level-0);\n",
       "  border: var(--sklearn-color-fitted-level-3);\n",
       "}\n",
       "\n",
       ".sk-estimator-doc-link:hover span {\n",
       "  display: block;\n",
       "}\n",
       "\n",
       "/* \"?\"-specific style due to the `<a>` HTML tag */\n",
       "\n",
       "#sk-container-id-1 a.estimator_doc_link {\n",
       "  float: right;\n",
       "  font-size: 1rem;\n",
       "  line-height: 1em;\n",
       "  font-family: monospace;\n",
       "  background-color: var(--sklearn-color-background);\n",
       "  border-radius: 1rem;\n",
       "  height: 1rem;\n",
       "  width: 1rem;\n",
       "  text-decoration: none;\n",
       "  /* unfitted */\n",
       "  color: var(--sklearn-color-unfitted-level-1);\n",
       "  border: var(--sklearn-color-unfitted-level-1) 1pt solid;\n",
       "}\n",
       "\n",
       "#sk-container-id-1 a.estimator_doc_link.fitted {\n",
       "  /* fitted */\n",
       "  border: var(--sklearn-color-fitted-level-1) 1pt solid;\n",
       "  color: var(--sklearn-color-fitted-level-1);\n",
       "}\n",
       "\n",
       "/* On hover */\n",
       "#sk-container-id-1 a.estimator_doc_link:hover {\n",
       "  /* unfitted */\n",
       "  background-color: var(--sklearn-color-unfitted-level-3);\n",
       "  color: var(--sklearn-color-background);\n",
       "  text-decoration: none;\n",
       "}\n",
       "\n",
       "#sk-container-id-1 a.estimator_doc_link.fitted:hover {\n",
       "  /* fitted */\n",
       "  background-color: var(--sklearn-color-fitted-level-3);\n",
       "}\n",
       "\n",
       ".estimator-table summary {\n",
       "    padding: .5rem;\n",
       "    font-family: monospace;\n",
       "    cursor: pointer;\n",
       "}\n",
       "\n",
       ".estimator-table details[open] {\n",
       "    padding-left: 0.1rem;\n",
       "    padding-right: 0.1rem;\n",
       "    padding-bottom: 0.3rem;\n",
       "}\n",
       "\n",
       ".estimator-table .parameters-table {\n",
       "    margin-left: auto !important;\n",
       "    margin-right: auto !important;\n",
       "}\n",
       "\n",
       ".estimator-table .parameters-table tr:nth-child(odd) {\n",
       "    background-color: #fff;\n",
       "}\n",
       "\n",
       ".estimator-table .parameters-table tr:nth-child(even) {\n",
       "    background-color: #f6f6f6;\n",
       "}\n",
       "\n",
       ".estimator-table .parameters-table tr:hover {\n",
       "    background-color: #e0e0e0;\n",
       "}\n",
       "\n",
       ".estimator-table table td {\n",
       "    border: 1px solid rgba(106, 105, 104, 0.232);\n",
       "}\n",
       "\n",
       ".user-set td {\n",
       "    color:rgb(255, 94, 0);\n",
       "    text-align: left;\n",
       "}\n",
       "\n",
       ".user-set td.value pre {\n",
       "    color:rgb(255, 94, 0) !important;\n",
       "    background-color: transparent !important;\n",
       "}\n",
       "\n",
       ".default td {\n",
       "    color: black;\n",
       "    text-align: left;\n",
       "}\n",
       "\n",
       ".user-set td i,\n",
       ".default td i {\n",
       "    color: black;\n",
       "}\n",
       "\n",
       ".copy-paste-icon {\n",
       "    background-image: url(data:image/svg+xml;base64,PHN2ZyB4bWxucz0iaHR0cDovL3d3dy53My5vcmcvMjAwMC9zdmciIHZpZXdCb3g9IjAgMCA0NDggNTEyIj48IS0tIUZvbnQgQXdlc29tZSBGcmVlIDYuNy4yIGJ5IEBmb250YXdlc29tZSAtIGh0dHBzOi8vZm9udGF3ZXNvbWUuY29tIExpY2Vuc2UgLSBodHRwczovL2ZvbnRhd2Vzb21lLmNvbS9saWNlbnNlL2ZyZWUgQ29weXJpZ2h0IDIwMjUgRm9udGljb25zLCBJbmMuLS0+PHBhdGggZD0iTTIwOCAwTDMzMi4xIDBjMTIuNyAwIDI0LjkgNS4xIDMzLjkgMTQuMWw2Ny45IDY3LjljOSA5IDE0LjEgMjEuMiAxNC4xIDMzLjlMNDQ4IDMzNmMwIDI2LjUtMjEuNSA0OC00OCA0OGwtMTkyIDBjLTI2LjUgMC00OC0yMS41LTQ4LTQ4bDAtMjg4YzAtMjYuNSAyMS41LTQ4IDQ4LTQ4ek00OCAxMjhsODAgMCAwIDY0LTY0IDAgMCAyNTYgMTkyIDAgMC0zMiA2NCAwIDAgNDhjMCAyNi41LTIxLjUgNDgtNDggNDhMNDggNTEyYy0yNi41IDAtNDgtMjEuNS00OC00OEwwIDE3NmMwLTI2LjUgMjEuNS00OCA0OC00OHoiLz48L3N2Zz4=);\n",
       "    background-repeat: no-repeat;\n",
       "    background-size: 14px 14px;\n",
       "    background-position: 0;\n",
       "    display: inline-block;\n",
       "    width: 14px;\n",
       "    height: 14px;\n",
       "    cursor: pointer;\n",
       "}\n",
       "</style><body><div id=\"sk-container-id-1\" class=\"sk-top-container\"><div class=\"sk-text-repr-fallback\"><pre>RandomForestRegressor()</pre><b>In a Jupyter environment, please rerun this cell to show the HTML representation or trust the notebook. <br />On GitHub, the HTML representation is unable to render, please try loading this page with nbviewer.org.</b></div><div class=\"sk-container\" hidden><div class=\"sk-item\"><div class=\"sk-estimator fitted sk-toggleable\"><input class=\"sk-toggleable__control sk-hidden--visually\" id=\"sk-estimator-id-1\" type=\"checkbox\" checked><label for=\"sk-estimator-id-1\" class=\"sk-toggleable__label fitted sk-toggleable__label-arrow\"><div><div>RandomForestRegressor</div></div><div><a class=\"sk-estimator-doc-link fitted\" rel=\"noreferrer\" target=\"_blank\" href=\"https://scikit-learn.org/1.7/modules/generated/sklearn.ensemble.RandomForestRegressor.html\">?<span>Documentation for RandomForestRegressor</span></a><span class=\"sk-estimator-doc-link fitted\">i<span>Fitted</span></span></div></label><div class=\"sk-toggleable__content fitted\" data-param-prefix=\"\">\n",
       "        <div class=\"estimator-table\">\n",
       "            <details>\n",
       "                <summary>Parameters</summary>\n",
       "                <table class=\"parameters-table\">\n",
       "                  <tbody>\n",
       "                    \n",
       "        <tr class=\"default\">\n",
       "            <td><i class=\"copy-paste-icon\"\n",
       "                 onclick=\"copyToClipboard('n_estimators',\n",
       "                          this.parentElement.nextElementSibling)\"\n",
       "            ></i></td>\n",
       "            <td class=\"param\">n_estimators&nbsp;</td>\n",
       "            <td class=\"value\">100</td>\n",
       "        </tr>\n",
       "    \n",
       "\n",
       "        <tr class=\"default\">\n",
       "            <td><i class=\"copy-paste-icon\"\n",
       "                 onclick=\"copyToClipboard('criterion',\n",
       "                          this.parentElement.nextElementSibling)\"\n",
       "            ></i></td>\n",
       "            <td class=\"param\">criterion&nbsp;</td>\n",
       "            <td class=\"value\">&#x27;squared_error&#x27;</td>\n",
       "        </tr>\n",
       "    \n",
       "\n",
       "        <tr class=\"default\">\n",
       "            <td><i class=\"copy-paste-icon\"\n",
       "                 onclick=\"copyToClipboard('max_depth',\n",
       "                          this.parentElement.nextElementSibling)\"\n",
       "            ></i></td>\n",
       "            <td class=\"param\">max_depth&nbsp;</td>\n",
       "            <td class=\"value\">None</td>\n",
       "        </tr>\n",
       "    \n",
       "\n",
       "        <tr class=\"default\">\n",
       "            <td><i class=\"copy-paste-icon\"\n",
       "                 onclick=\"copyToClipboard('min_samples_split',\n",
       "                          this.parentElement.nextElementSibling)\"\n",
       "            ></i></td>\n",
       "            <td class=\"param\">min_samples_split&nbsp;</td>\n",
       "            <td class=\"value\">2</td>\n",
       "        </tr>\n",
       "    \n",
       "\n",
       "        <tr class=\"default\">\n",
       "            <td><i class=\"copy-paste-icon\"\n",
       "                 onclick=\"copyToClipboard('min_samples_leaf',\n",
       "                          this.parentElement.nextElementSibling)\"\n",
       "            ></i></td>\n",
       "            <td class=\"param\">min_samples_leaf&nbsp;</td>\n",
       "            <td class=\"value\">1</td>\n",
       "        </tr>\n",
       "    \n",
       "\n",
       "        <tr class=\"default\">\n",
       "            <td><i class=\"copy-paste-icon\"\n",
       "                 onclick=\"copyToClipboard('min_weight_fraction_leaf',\n",
       "                          this.parentElement.nextElementSibling)\"\n",
       "            ></i></td>\n",
       "            <td class=\"param\">min_weight_fraction_leaf&nbsp;</td>\n",
       "            <td class=\"value\">0.0</td>\n",
       "        </tr>\n",
       "    \n",
       "\n",
       "        <tr class=\"default\">\n",
       "            <td><i class=\"copy-paste-icon\"\n",
       "                 onclick=\"copyToClipboard('max_features',\n",
       "                          this.parentElement.nextElementSibling)\"\n",
       "            ></i></td>\n",
       "            <td class=\"param\">max_features&nbsp;</td>\n",
       "            <td class=\"value\">1.0</td>\n",
       "        </tr>\n",
       "    \n",
       "\n",
       "        <tr class=\"default\">\n",
       "            <td><i class=\"copy-paste-icon\"\n",
       "                 onclick=\"copyToClipboard('max_leaf_nodes',\n",
       "                          this.parentElement.nextElementSibling)\"\n",
       "            ></i></td>\n",
       "            <td class=\"param\">max_leaf_nodes&nbsp;</td>\n",
       "            <td class=\"value\">None</td>\n",
       "        </tr>\n",
       "    \n",
       "\n",
       "        <tr class=\"default\">\n",
       "            <td><i class=\"copy-paste-icon\"\n",
       "                 onclick=\"copyToClipboard('min_impurity_decrease',\n",
       "                          this.parentElement.nextElementSibling)\"\n",
       "            ></i></td>\n",
       "            <td class=\"param\">min_impurity_decrease&nbsp;</td>\n",
       "            <td class=\"value\">0.0</td>\n",
       "        </tr>\n",
       "    \n",
       "\n",
       "        <tr class=\"default\">\n",
       "            <td><i class=\"copy-paste-icon\"\n",
       "                 onclick=\"copyToClipboard('bootstrap',\n",
       "                          this.parentElement.nextElementSibling)\"\n",
       "            ></i></td>\n",
       "            <td class=\"param\">bootstrap&nbsp;</td>\n",
       "            <td class=\"value\">True</td>\n",
       "        </tr>\n",
       "    \n",
       "\n",
       "        <tr class=\"default\">\n",
       "            <td><i class=\"copy-paste-icon\"\n",
       "                 onclick=\"copyToClipboard('oob_score',\n",
       "                          this.parentElement.nextElementSibling)\"\n",
       "            ></i></td>\n",
       "            <td class=\"param\">oob_score&nbsp;</td>\n",
       "            <td class=\"value\">False</td>\n",
       "        </tr>\n",
       "    \n",
       "\n",
       "        <tr class=\"default\">\n",
       "            <td><i class=\"copy-paste-icon\"\n",
       "                 onclick=\"copyToClipboard('n_jobs',\n",
       "                          this.parentElement.nextElementSibling)\"\n",
       "            ></i></td>\n",
       "            <td class=\"param\">n_jobs&nbsp;</td>\n",
       "            <td class=\"value\">None</td>\n",
       "        </tr>\n",
       "    \n",
       "\n",
       "        <tr class=\"default\">\n",
       "            <td><i class=\"copy-paste-icon\"\n",
       "                 onclick=\"copyToClipboard('random_state',\n",
       "                          this.parentElement.nextElementSibling)\"\n",
       "            ></i></td>\n",
       "            <td class=\"param\">random_state&nbsp;</td>\n",
       "            <td class=\"value\">None</td>\n",
       "        </tr>\n",
       "    \n",
       "\n",
       "        <tr class=\"default\">\n",
       "            <td><i class=\"copy-paste-icon\"\n",
       "                 onclick=\"copyToClipboard('verbose',\n",
       "                          this.parentElement.nextElementSibling)\"\n",
       "            ></i></td>\n",
       "            <td class=\"param\">verbose&nbsp;</td>\n",
       "            <td class=\"value\">0</td>\n",
       "        </tr>\n",
       "    \n",
       "\n",
       "        <tr class=\"default\">\n",
       "            <td><i class=\"copy-paste-icon\"\n",
       "                 onclick=\"copyToClipboard('warm_start',\n",
       "                          this.parentElement.nextElementSibling)\"\n",
       "            ></i></td>\n",
       "            <td class=\"param\">warm_start&nbsp;</td>\n",
       "            <td class=\"value\">False</td>\n",
       "        </tr>\n",
       "    \n",
       "\n",
       "        <tr class=\"default\">\n",
       "            <td><i class=\"copy-paste-icon\"\n",
       "                 onclick=\"copyToClipboard('ccp_alpha',\n",
       "                          this.parentElement.nextElementSibling)\"\n",
       "            ></i></td>\n",
       "            <td class=\"param\">ccp_alpha&nbsp;</td>\n",
       "            <td class=\"value\">0.0</td>\n",
       "        </tr>\n",
       "    \n",
       "\n",
       "        <tr class=\"default\">\n",
       "            <td><i class=\"copy-paste-icon\"\n",
       "                 onclick=\"copyToClipboard('max_samples',\n",
       "                          this.parentElement.nextElementSibling)\"\n",
       "            ></i></td>\n",
       "            <td class=\"param\">max_samples&nbsp;</td>\n",
       "            <td class=\"value\">None</td>\n",
       "        </tr>\n",
       "    \n",
       "\n",
       "        <tr class=\"default\">\n",
       "            <td><i class=\"copy-paste-icon\"\n",
       "                 onclick=\"copyToClipboard('monotonic_cst',\n",
       "                          this.parentElement.nextElementSibling)\"\n",
       "            ></i></td>\n",
       "            <td class=\"param\">monotonic_cst&nbsp;</td>\n",
       "            <td class=\"value\">None</td>\n",
       "        </tr>\n",
       "    \n",
       "                  </tbody>\n",
       "                </table>\n",
       "            </details>\n",
       "        </div>\n",
       "    </div></div></div></div></div><script>function copyToClipboard(text, element) {\n",
       "    // Get the parameter prefix from the closest toggleable content\n",
       "    const toggleableContent = element.closest('.sk-toggleable__content');\n",
       "    const paramPrefix = toggleableContent ? toggleableContent.dataset.paramPrefix : '';\n",
       "    const fullParamName = paramPrefix ? `${paramPrefix}${text}` : text;\n",
       "\n",
       "    const originalStyle = element.style;\n",
       "    const computedStyle = window.getComputedStyle(element);\n",
       "    const originalWidth = computedStyle.width;\n",
       "    const originalHTML = element.innerHTML.replace('Copied!', '');\n",
       "\n",
       "    navigator.clipboard.writeText(fullParamName)\n",
       "        .then(() => {\n",
       "            element.style.width = originalWidth;\n",
       "            element.style.color = 'green';\n",
       "            element.innerHTML = \"Copied!\";\n",
       "\n",
       "            setTimeout(() => {\n",
       "                element.innerHTML = originalHTML;\n",
       "                element.style = originalStyle;\n",
       "            }, 2000);\n",
       "        })\n",
       "        .catch(err => {\n",
       "            console.error('Failed to copy:', err);\n",
       "            element.style.color = 'red';\n",
       "            element.innerHTML = \"Failed!\";\n",
       "            setTimeout(() => {\n",
       "                element.innerHTML = originalHTML;\n",
       "                element.style = originalStyle;\n",
       "            }, 2000);\n",
       "        });\n",
       "    return false;\n",
       "}\n",
       "\n",
       "document.querySelectorAll('.fa-regular.fa-copy').forEach(function(element) {\n",
       "    const toggleableContent = element.closest('.sk-toggleable__content');\n",
       "    const paramPrefix = toggleableContent ? toggleableContent.dataset.paramPrefix : '';\n",
       "    const paramName = element.parentElement.nextElementSibling.textContent.trim();\n",
       "    const fullParamName = paramPrefix ? `${paramPrefix}${paramName}` : paramName;\n",
       "\n",
       "    element.setAttribute('title', fullParamName);\n",
       "});\n",
       "</script></body>"
      ],
      "text/plain": [
       "RandomForestRegressor()"
      ]
     },
     "execution_count": 41,
     "metadata": {},
     "output_type": "execute_result"
    }
   ],
   "source": [
    "# Random forest Regressor \n",
    "rfr =RandomForestRegressor()\n",
    "rfr.fit(X_train, y_train)"
   ]
  },
  {
   "cell_type": "code",
   "execution_count": 42,
   "id": "1abf65b3",
   "metadata": {},
   "outputs": [
    {
     "data": {
      "application/vnd.microsoft.datawrangler.viewer.v0+json": {
       "columns": [
        {
         "name": "index",
         "rawType": "int64",
         "type": "integer"
        },
        {
         "name": "Features",
         "rawType": "object",
         "type": "string"
        },
        {
         "name": "Importance",
         "rawType": "float64",
         "type": "float"
        }
       ],
       "ref": "2d0c8b5f-9201-4994-97ce-436cddfa4c80",
       "rows": [
        [
         "1",
         "Biological Weight (BW)",
         "0.4530664549264854"
        ],
        [
         "0",
         "Number of Pods (NP)",
         "0.1704526704884388"
        ],
        [
         "7",
         "Weight of 300 Seeds (W3S)",
         "0.10031825530195332"
        ],
        [
         "2",
         "Sugars (Su)",
         "0.08622940989177934"
        ],
        [
         "9",
         "Number of Seeds per Pod (NSP)",
         "0.06967489830246988"
        ],
        [
         "20",
         "Genotypes_G5",
         "0.033170540020061375"
        ],
        [
         "3",
         "Relative Water Content in Leaves (RWCL)",
         "0.02285884028925266"
        ],
        [
         "21",
         "Genotypes_G6",
         "0.021838416558943866"
        ],
        [
         "14",
         "Water Stress_S2",
         "0.015691047169071527"
        ],
        [
         "8",
         "Leaf Area Index (LAI)",
         "0.00886530531326286"
        ],
        [
         "4",
         "ChlorophyllA663",
         "0.007857195315986373"
        ],
        [
         "6",
         "Protein Percentage (PPE)",
         "0.0031193728482877088"
        ],
        [
         "10",
         "Protein Content (PCO)",
         "0.0021533511619190354"
        ],
        [
         "13",
         "Water Stress_S1",
         "0.0017476508924228725"
        ],
        [
         "5",
         "Chlorophyllb649",
         "0.001179477389292592"
        ],
        [
         "17",
         "Genotypes_G2",
         "0.0005298493050042163"
        ],
        [
         "15",
         "Water Stress_S3",
         "0.00044480803748456595"
        ],
        [
         "16",
         "Genotypes_G1",
         "0.000402271840661051"
        ],
        [
         "11",
         "Salicylic Acid_C1",
         "0.00016370834927801684"
        ],
        [
         "12",
         "Salicylic Acid_C2",
         "0.0001610302163931747"
        ],
        [
         "18",
         "Genotypes_G3",
         "4.282663542979904e-05"
        ],
        [
         "19",
         "Genotypes_G4",
         "3.261974612149148e-05"
        ]
       ],
       "shape": {
        "columns": 2,
        "rows": 22
       }
      },
      "text/html": [
       "<div>\n",
       "<style scoped>\n",
       "    .dataframe tbody tr th:only-of-type {\n",
       "        vertical-align: middle;\n",
       "    }\n",
       "\n",
       "    .dataframe tbody tr th {\n",
       "        vertical-align: top;\n",
       "    }\n",
       "\n",
       "    .dataframe thead th {\n",
       "        text-align: right;\n",
       "    }\n",
       "</style>\n",
       "<table border=\"1\" class=\"dataframe\">\n",
       "  <thead>\n",
       "    <tr style=\"text-align: right;\">\n",
       "      <th></th>\n",
       "      <th>Features</th>\n",
       "      <th>Importance</th>\n",
       "    </tr>\n",
       "  </thead>\n",
       "  <tbody>\n",
       "    <tr>\n",
       "      <th>1</th>\n",
       "      <td>Biological Weight (BW)</td>\n",
       "      <td>0.453066</td>\n",
       "    </tr>\n",
       "    <tr>\n",
       "      <th>0</th>\n",
       "      <td>Number of Pods (NP)</td>\n",
       "      <td>0.170453</td>\n",
       "    </tr>\n",
       "    <tr>\n",
       "      <th>7</th>\n",
       "      <td>Weight of 300 Seeds (W3S)</td>\n",
       "      <td>0.100318</td>\n",
       "    </tr>\n",
       "    <tr>\n",
       "      <th>2</th>\n",
       "      <td>Sugars (Su)</td>\n",
       "      <td>0.086229</td>\n",
       "    </tr>\n",
       "    <tr>\n",
       "      <th>9</th>\n",
       "      <td>Number of Seeds per Pod (NSP)</td>\n",
       "      <td>0.069675</td>\n",
       "    </tr>\n",
       "    <tr>\n",
       "      <th>20</th>\n",
       "      <td>Genotypes_G5</td>\n",
       "      <td>0.033171</td>\n",
       "    </tr>\n",
       "    <tr>\n",
       "      <th>3</th>\n",
       "      <td>Relative Water Content in Leaves (RWCL)</td>\n",
       "      <td>0.022859</td>\n",
       "    </tr>\n",
       "    <tr>\n",
       "      <th>21</th>\n",
       "      <td>Genotypes_G6</td>\n",
       "      <td>0.021838</td>\n",
       "    </tr>\n",
       "    <tr>\n",
       "      <th>14</th>\n",
       "      <td>Water Stress_S2</td>\n",
       "      <td>0.015691</td>\n",
       "    </tr>\n",
       "    <tr>\n",
       "      <th>8</th>\n",
       "      <td>Leaf Area Index (LAI)</td>\n",
       "      <td>0.008865</td>\n",
       "    </tr>\n",
       "    <tr>\n",
       "      <th>4</th>\n",
       "      <td>ChlorophyllA663</td>\n",
       "      <td>0.007857</td>\n",
       "    </tr>\n",
       "    <tr>\n",
       "      <th>6</th>\n",
       "      <td>Protein Percentage (PPE)</td>\n",
       "      <td>0.003119</td>\n",
       "    </tr>\n",
       "    <tr>\n",
       "      <th>10</th>\n",
       "      <td>Protein Content (PCO)</td>\n",
       "      <td>0.002153</td>\n",
       "    </tr>\n",
       "    <tr>\n",
       "      <th>13</th>\n",
       "      <td>Water Stress_S1</td>\n",
       "      <td>0.001748</td>\n",
       "    </tr>\n",
       "    <tr>\n",
       "      <th>5</th>\n",
       "      <td>Chlorophyllb649</td>\n",
       "      <td>0.001179</td>\n",
       "    </tr>\n",
       "    <tr>\n",
       "      <th>17</th>\n",
       "      <td>Genotypes_G2</td>\n",
       "      <td>0.000530</td>\n",
       "    </tr>\n",
       "    <tr>\n",
       "      <th>15</th>\n",
       "      <td>Water Stress_S3</td>\n",
       "      <td>0.000445</td>\n",
       "    </tr>\n",
       "    <tr>\n",
       "      <th>16</th>\n",
       "      <td>Genotypes_G1</td>\n",
       "      <td>0.000402</td>\n",
       "    </tr>\n",
       "    <tr>\n",
       "      <th>11</th>\n",
       "      <td>Salicylic Acid_C1</td>\n",
       "      <td>0.000164</td>\n",
       "    </tr>\n",
       "    <tr>\n",
       "      <th>12</th>\n",
       "      <td>Salicylic Acid_C2</td>\n",
       "      <td>0.000161</td>\n",
       "    </tr>\n",
       "    <tr>\n",
       "      <th>18</th>\n",
       "      <td>Genotypes_G3</td>\n",
       "      <td>0.000043</td>\n",
       "    </tr>\n",
       "    <tr>\n",
       "      <th>19</th>\n",
       "      <td>Genotypes_G4</td>\n",
       "      <td>0.000033</td>\n",
       "    </tr>\n",
       "  </tbody>\n",
       "</table>\n",
       "</div>"
      ],
      "text/plain": [
       "                                   Features  Importance\n",
       "1                    Biological Weight (BW)    0.453066\n",
       "0                       Number of Pods (NP)    0.170453\n",
       "7                 Weight of 300 Seeds (W3S)    0.100318\n",
       "2                               Sugars (Su)    0.086229\n",
       "9             Number of Seeds per Pod (NSP)    0.069675\n",
       "20                             Genotypes_G5    0.033171\n",
       "3   Relative Water Content in Leaves (RWCL)    0.022859\n",
       "21                             Genotypes_G6    0.021838\n",
       "14                          Water Stress_S2    0.015691\n",
       "8                     Leaf Area Index (LAI)    0.008865\n",
       "4                           ChlorophyllA663    0.007857\n",
       "6                  Protein Percentage (PPE)    0.003119\n",
       "10                    Protein Content (PCO)    0.002153\n",
       "13                          Water Stress_S1    0.001748\n",
       "5                           Chlorophyllb649    0.001179\n",
       "17                             Genotypes_G2    0.000530\n",
       "15                          Water Stress_S3    0.000445\n",
       "16                             Genotypes_G1    0.000402\n",
       "11                        Salicylic Acid_C1    0.000164\n",
       "12                        Salicylic Acid_C2    0.000161\n",
       "18                             Genotypes_G3    0.000043\n",
       "19                             Genotypes_G4    0.000033"
      ]
     },
     "execution_count": 42,
     "metadata": {},
     "output_type": "execute_result"
    }
   ],
   "source": [
    "# features importance \n",
    "rfr_importance = pd.DataFrame({'Features' : X.columns, 'Importance' : rfr.feature_importances_}).sort_values(by='Importance', ascending=False)  \n",
    "rfr_importance"
   ]
  },
  {
   "cell_type": "code",
   "execution_count": 43,
   "id": "8094f5ff",
   "metadata": {},
   "outputs": [
    {
     "data": {
      "text/plain": [
       "['RandomForest_model.pkl']"
      ]
     },
     "execution_count": 43,
     "metadata": {},
     "output_type": "execute_result"
    }
   ],
   "source": [
    "# Serealisation \n",
    "jb.dump(rfr, 'RandomForest_model.pkl')"
   ]
  },
  {
   "cell_type": "markdown",
   "id": "a26dafa1",
   "metadata": {},
   "source": [
    "###  Conclusion\n",
    "\n",
    "Les résultats issus de notre modèle de Gradient Boosting  et Random Forest montrent clairement que certaines variables ont un poids déterminant dans la prédiction du rendement en soja `Seed Yield per Unit Area`. En particulier, trois facteurs se démarquent nettement :\n",
    "\n",
    "* **Le poids biologique total de la plante (Biological Weight)**,\n",
    "* **Le poids de 300 graines (Weight of 300 Seeds)**,\n",
    "* **Le nombre total de gousses (Number of Pods)**.\n",
    "\n",
    "Ces variables indiquent que les meilleures performances en matière de rendement proviennent de plantes vigoureuses, bien développées et capables de produire des graines denses et nombreuses.\n",
    "\n",
    "D'autres facteurs tels que la teneur en chlorophylle, le sucre foliaire, ou encore le traitement avec de faibles doses d'acide salicylique (C1) jouent également un rôle, quoique plus modéré. À l’inverse, les différences génétiques (Genotypes) et les niveaux de stress hydrique pris isolément semblent avoir un impact plus faible dans ce modèle.\n",
    "\n",
    "\n",
    "\n",
    "###  Implication pour l’agriculture du soja au Togo\n",
    "\n",
    "Ce travail a une **portée stratégique majeure** pour l'agriculture togolaise, notamment dans le secteur du **soja biologique**, dont le pays est un producteur reconnu. Voici les impacts concrets attendus :\n",
    "\n",
    "1. **Amélioration des pratiques agricoles** : Les résultats orientent les agriculteurs vers des pratiques qui favorisent la biomasse et la qualité des graines, sans nécessairement recourir à des intrants chimiques.\n",
    "\n",
    "2. **Valorisation des intrants naturels** : L’effet positif d’un traitement naturel comme l'acide salicylique à faible dose ouvre la voie à des techniques de stimulation respectueuses des normes bio.\n",
    "\n",
    "3. **Aide à la décision pour les coopératives** : Ces données peuvent être utilisées pour créer des outils simples (Excel ou application mobile) permettant aux producteurs de prédire leur rendement en fonction de quelques mesures de terrain.\n",
    "\n",
    "4. **Formation des agriculteurs** : Ce modèle peut servir de base pour former les groupements de producteurs sur les facteurs agronomiques clés à surveiller (poids, gousses, chlorophylle, etc.).\n",
    "\n",
    "\n",
    "### En résumé :\n",
    "\n",
    "Ce modèle prédictif transforme des données scientifiques en recommandations agricoles concrètes. Il offre un levier puissant pour renforcer la performance, la durabilité et la compétitivité du **soja bio togolais**, tout en restant fidèle aux principes de l’agroécologie.\n"
   ]
  }
 ],
 "metadata": {
  "kernelspec": {
   "display_name": "Python 3 (ipykernel)",
   "language": "python",
   "name": "python3"
  },
  "language_info": {
   "codemirror_mode": {
    "name": "ipython",
    "version": 3
   },
   "file_extension": ".py",
   "mimetype": "text/x-python",
   "name": "python",
   "nbconvert_exporter": "python",
   "pygments_lexer": "ipython3",
   "version": "3.12.7"
  }
 },
 "nbformat": 4,
 "nbformat_minor": 5
}
