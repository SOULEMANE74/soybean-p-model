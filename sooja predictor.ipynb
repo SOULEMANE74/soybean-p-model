{
 "cells": [
  {
   "cell_type": "code",
   "execution_count": 1,
   "id": "8f74531c-d35f-4fa4-84ea-f2aac6bceed9",
   "metadata": {},
   "outputs": [],
   "source": [
    "import pandas as pd\n",
    "import numpy as np\n",
    "import matplotlib.pyplot as plt\n",
    "import scipy as sp\n",
    "import os \n",
    "import glob"
   ]
  },
  {
   "cell_type": "code",
   "execution_count": 2,
   "id": "599e3b15-1ecd-46e8-b8d6-62ce34702e8e",
   "metadata": {},
   "outputs": [
    {
     "data": {
      "application/vnd.microsoft.datawrangler.viewer.v0+json": {
       "columns": [
        {
         "name": "index",
         "rawType": "int64",
         "type": "integer"
        },
        {
         "name": "Parameters",
         "rawType": "object",
         "type": "string"
        },
        {
         "name": "Random",
         "rawType": "object",
         "type": "string"
        },
        {
         "name": "Number of Pods (NP)",
         "rawType": "float64",
         "type": "float"
        },
        {
         "name": "Biological Weight (BW)",
         "rawType": "float64",
         "type": "float"
        },
        {
         "name": "Sugars (Su)",
         "rawType": "float64",
         "type": "float"
        },
        {
         "name": "Relative Water Content in Leaves (RWCL)",
         "rawType": "float64",
         "type": "float"
        },
        {
         "name": "ChlorophyllA663",
         "rawType": "float64",
         "type": "float"
        },
        {
         "name": "Chlorophyllb649",
         "rawType": "float64",
         "type": "float"
        },
        {
         "name": "Protein Percentage (PPE)",
         "rawType": "float64",
         "type": "float"
        },
        {
         "name": "Weight of 300 Seeds (W3S)",
         "rawType": "float64",
         "type": "float"
        },
        {
         "name": "Leaf Area Index (LAI)",
         "rawType": "float64",
         "type": "float"
        },
        {
         "name": "Number of Seeds per Pod (NSP)",
         "rawType": "float64",
         "type": "float"
        },
        {
         "name": "Protein Content (PCO)",
         "rawType": "object",
         "type": "string"
        },
        {
         "name": "Seed Yield per Unit Area (SYUA)",
         "rawType": "object",
         "type": "string"
        },
        {
         "name": "Plant Height (PH)",
         "rawType": "object",
         "type": "string"
        }
       ],
       "ref": "a52d2f99-4a83-40a6-9750-1727c46668d3",
       "rows": [
        [
         "0",
         "C1S1G5",
         "R1",
         "130.3",
         "111.0",
         "433.0",
         "732.0",
         "1.4",
         "3.1",
         "33.2",
         "33.6",
         "0.08",
         "1.86",
         "0.82",
         "133943600,00%",
         "R$ 50,50"
        ],
        [
         "1",
         "C2S3G4",
         "R1",
         "132.0",
         "80.0",
         "334.0",
         "674.0",
         "7.1",
         "2.2",
         "38.5",
         "34.4",
         "0.09",
         "1.87",
         "0.13",
         "12613100,00%",
         "R$ 44,50"
        ],
        [
         "2",
         "C2S1G6",
         "R1",
         "150.0",
         "83.0",
         "0.49",
         "677.0",
         "1.8",
         "1.3",
         "33.6",
         "35.2",
         "0.07",
         "2.04",
         "0.15",
         "88626100,00%",
         "R$ 52,20"
        ],
        [
         "3",
         "C1S1G1",
         "R1",
         "140.8",
         "66.0",
         "163.0",
         "745.0",
         "1.1",
         "3.0",
         "33.5",
         "52.3",
         "0.09",
         "2.2",
         "0.14",
         "157577800,00%",
         "R$ 50,50"
        ],
        [
         "4",
         "C1S2G6",
         "R2",
         "175.6",
         "73.0",
         "795.0",
         "725.0",
         "7.5",
         "2.1",
         "39.6",
         "31.2",
         "0.1",
         "1.88",
         "0.6",
         "72960400,00%",
         "R$ 49,20"
        ]
       ],
       "shape": {
        "columns": 15,
        "rows": 5
       }
      },
      "text/html": [
       "<div>\n",
       "<style scoped>\n",
       "    .dataframe tbody tr th:only-of-type {\n",
       "        vertical-align: middle;\n",
       "    }\n",
       "\n",
       "    .dataframe tbody tr th {\n",
       "        vertical-align: top;\n",
       "    }\n",
       "\n",
       "    .dataframe thead th {\n",
       "        text-align: right;\n",
       "    }\n",
       "</style>\n",
       "<table border=\"1\" class=\"dataframe\">\n",
       "  <thead>\n",
       "    <tr style=\"text-align: right;\">\n",
       "      <th></th>\n",
       "      <th>Parameters</th>\n",
       "      <th>Random</th>\n",
       "      <th>Number of Pods (NP)</th>\n",
       "      <th>Biological Weight (BW)</th>\n",
       "      <th>Sugars (Su)</th>\n",
       "      <th>Relative Water Content in Leaves (RWCL)</th>\n",
       "      <th>ChlorophyllA663</th>\n",
       "      <th>Chlorophyllb649</th>\n",
       "      <th>Protein Percentage (PPE)</th>\n",
       "      <th>Weight of 300 Seeds (W3S)</th>\n",
       "      <th>Leaf Area Index (LAI)</th>\n",
       "      <th>Number of Seeds per Pod (NSP)</th>\n",
       "      <th>Protein Content (PCO)</th>\n",
       "      <th>Seed Yield per Unit Area (SYUA)</th>\n",
       "      <th>Plant Height (PH)</th>\n",
       "    </tr>\n",
       "  </thead>\n",
       "  <tbody>\n",
       "    <tr>\n",
       "      <th>0</th>\n",
       "      <td>C1S1G5</td>\n",
       "      <td>R1</td>\n",
       "      <td>130.3</td>\n",
       "      <td>111.0</td>\n",
       "      <td>433.00</td>\n",
       "      <td>732.0</td>\n",
       "      <td>1.4</td>\n",
       "      <td>3.1</td>\n",
       "      <td>33.2</td>\n",
       "      <td>33.6</td>\n",
       "      <td>0.08</td>\n",
       "      <td>1.86</td>\n",
       "      <td>0.82</td>\n",
       "      <td>133943600,00%</td>\n",
       "      <td>R$ 50,50</td>\n",
       "    </tr>\n",
       "    <tr>\n",
       "      <th>1</th>\n",
       "      <td>C2S3G4</td>\n",
       "      <td>R1</td>\n",
       "      <td>132.0</td>\n",
       "      <td>80.0</td>\n",
       "      <td>334.00</td>\n",
       "      <td>674.0</td>\n",
       "      <td>7.1</td>\n",
       "      <td>2.2</td>\n",
       "      <td>38.5</td>\n",
       "      <td>34.4</td>\n",
       "      <td>0.09</td>\n",
       "      <td>1.87</td>\n",
       "      <td>0.13</td>\n",
       "      <td>12613100,00%</td>\n",
       "      <td>R$ 44,50</td>\n",
       "    </tr>\n",
       "    <tr>\n",
       "      <th>2</th>\n",
       "      <td>C2S1G6</td>\n",
       "      <td>R1</td>\n",
       "      <td>150.0</td>\n",
       "      <td>83.0</td>\n",
       "      <td>0.49</td>\n",
       "      <td>677.0</td>\n",
       "      <td>1.8</td>\n",
       "      <td>1.3</td>\n",
       "      <td>33.6</td>\n",
       "      <td>35.2</td>\n",
       "      <td>0.07</td>\n",
       "      <td>2.04</td>\n",
       "      <td>0.15</td>\n",
       "      <td>88626100,00%</td>\n",
       "      <td>R$ 52,20</td>\n",
       "    </tr>\n",
       "    <tr>\n",
       "      <th>3</th>\n",
       "      <td>C1S1G1</td>\n",
       "      <td>R1</td>\n",
       "      <td>140.8</td>\n",
       "      <td>66.0</td>\n",
       "      <td>163.00</td>\n",
       "      <td>745.0</td>\n",
       "      <td>1.1</td>\n",
       "      <td>3.0</td>\n",
       "      <td>33.5</td>\n",
       "      <td>52.3</td>\n",
       "      <td>0.09</td>\n",
       "      <td>2.20</td>\n",
       "      <td>0.14</td>\n",
       "      <td>157577800,00%</td>\n",
       "      <td>R$ 50,50</td>\n",
       "    </tr>\n",
       "    <tr>\n",
       "      <th>4</th>\n",
       "      <td>C1S2G6</td>\n",
       "      <td>R2</td>\n",
       "      <td>175.6</td>\n",
       "      <td>73.0</td>\n",
       "      <td>795.00</td>\n",
       "      <td>725.0</td>\n",
       "      <td>7.5</td>\n",
       "      <td>2.1</td>\n",
       "      <td>39.6</td>\n",
       "      <td>31.2</td>\n",
       "      <td>0.10</td>\n",
       "      <td>1.88</td>\n",
       "      <td>0.6</td>\n",
       "      <td>72960400,00%</td>\n",
       "      <td>R$ 49,20</td>\n",
       "    </tr>\n",
       "  </tbody>\n",
       "</table>\n",
       "</div>"
      ],
      "text/plain": [
       "  Parameters Random  Number of Pods (NP)  Biological Weight (BW)  Sugars (Su)  \\\n",
       "0     C1S1G5     R1                130.3                   111.0       433.00   \n",
       "1     C2S3G4     R1                132.0                    80.0       334.00   \n",
       "2     C2S1G6     R1                150.0                    83.0         0.49   \n",
       "3     C1S1G1     R1                140.8                    66.0       163.00   \n",
       "4     C1S2G6     R2                175.6                    73.0       795.00   \n",
       "\n",
       "   Relative Water Content in Leaves (RWCL)  ChlorophyllA663  Chlorophyllb649  \\\n",
       "0                                    732.0              1.4              3.1   \n",
       "1                                    674.0              7.1              2.2   \n",
       "2                                    677.0              1.8              1.3   \n",
       "3                                    745.0              1.1              3.0   \n",
       "4                                    725.0              7.5              2.1   \n",
       "\n",
       "   Protein Percentage (PPE)  Weight of 300 Seeds (W3S)  Leaf Area Index (LAI)  \\\n",
       "0                      33.2                       33.6                   0.08   \n",
       "1                      38.5                       34.4                   0.09   \n",
       "2                      33.6                       35.2                   0.07   \n",
       "3                      33.5                       52.3                   0.09   \n",
       "4                      39.6                       31.2                   0.10   \n",
       "\n",
       "   Number of Seeds per Pod (NSP) Protein Content (PCO)  \\\n",
       "0                           1.86                  0.82   \n",
       "1                           1.87                  0.13   \n",
       "2                           2.04                  0.15   \n",
       "3                           2.20                  0.14   \n",
       "4                           1.88                   0.6   \n",
       "\n",
       "  Seed Yield per Unit Area (SYUA) Plant Height (PH)  \n",
       "0                   133943600,00%          R$ 50,50  \n",
       "1                    12613100,00%          R$ 44,50  \n",
       "2                    88626100,00%          R$ 52,20  \n",
       "3                   157577800,00%          R$ 50,50  \n",
       "4                    72960400,00%          R$ 49,20  "
      ]
     },
     "execution_count": 2,
     "metadata": {},
     "output_type": "execute_result"
    }
   ],
   "source": [
    "# Importation des donnees\n",
    "df=pd.read_csv('Advanced Soybean new.csv')\n",
    "df.head()"
   ]
  },
  {
   "cell_type": "code",
   "execution_count": null,
   "id": "9173872b",
   "metadata": {},
   "outputs": [],
   "source": []
  }
 ],
 "metadata": {
  "kernelspec": {
   "display_name": "base",
   "language": "python",
   "name": "python3"
  },
  "language_info": {
   "codemirror_mode": {
    "name": "ipython",
    "version": 3
   },
   "file_extension": ".py",
   "mimetype": "text/x-python",
   "name": "python",
   "nbconvert_exporter": "python",
   "pygments_lexer": "ipython3",
   "version": "3.12.7"
  }
 },
 "nbformat": 4,
 "nbformat_minor": 5
}
